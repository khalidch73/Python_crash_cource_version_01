{
 "cells": [
  {
   "cell_type": "markdown",
   "metadata": {},
   "source": [
    "# Variables in Python\n",
    "In Python, variables are used to store information that can be referenced and manipulated later in the program. Understanding how to use variables is essential for writing effective code.\n",
    "## What is a Variable?\n",
    "A variable is like a container that holds data. You can think of it as a label attached to a value. In Python, you don’t need to declare the type of a variable; but we will use data types to learn best python standers.\n",
    "## Basic Variable Declaration\n",
    "In Python, you declare a variable by assigning a value to it using the = operator. \n",
    "Here are some examples:\n",
    "age, price, name, is_student are variables."
   ]
  },
  {
   "cell_type": "code",
   "execution_count": 1,
   "metadata": {},
   "outputs": [
    {
     "name": "stdout",
     "output_type": "stream",
     "text": [
      "25\n",
      "19.99\n",
      "Ali\n",
      "True\n"
     ]
    }
   ],
   "source": [
    "# Integer\n",
    "age : int = 25\n",
    "print(age)\n",
    "# Float\n",
    "price : float = 19.99\n",
    "print(price)\n",
    "# String\n",
    "name : str= \"Ali\"\n",
    "print(name)\n",
    "# Boolean\n",
    "is_student : bool = True\n",
    "print(is_student)"
   ]
  },
  {
   "cell_type": "markdown",
   "metadata": {},
   "source": [
    "## Rules for Variable Names\n",
    "1. Must start with a letter or an underscore (_):"
   ]
  },
  {
   "cell_type": "code",
   "execution_count": 2,
   "metadata": {},
   "outputs": [
    {
     "name": "stdout",
     "output_type": "stream",
     "text": [
      "10\n",
      "20\n"
     ]
    }
   ],
   "source": [
    "my_var : int = 10\n",
    "print(my_var)\n",
    "_my_var : int = 20\n",
    "print(_my_var)\n",
    "\n"
   ]
  },
  {
   "cell_type": "markdown",
   "metadata": {},
   "source": [
    "2. Cannot start with a number:"
   ]
  },
  {
   "cell_type": "code",
   "execution_count": 3,
   "metadata": {},
   "outputs": [
    {
     "ename": "SyntaxError",
     "evalue": "invalid decimal literal (1508924111.py, line 2)",
     "output_type": "error",
     "traceback": [
      "\u001b[1;36m  Cell \u001b[1;32mIn[3], line 2\u001b[1;36m\u001b[0m\n\u001b[1;33m    1st_place : str = \"Gold\" # if we try to print this it will show errors\u001b[0m\n\u001b[1;37m    ^\u001b[0m\n\u001b[1;31mSyntaxError\u001b[0m\u001b[1;31m:\u001b[0m invalid decimal literal\n"
     ]
    }
   ],
   "source": [
    "# Invalid\n",
    "1st_place : str = \"Gold\" # if we try to print this it will show errors\n",
    "\n",
    "# Valid\n",
    "first_place : str = \"Gold\"\n",
    "print(first_place)\n"
   ]
  },
  {
   "cell_type": "markdown",
   "metadata": {},
   "source": [
    "3. Can contain letters, numbers, and underscores:"
   ]
  },
  {
   "cell_type": "code",
   "execution_count": null,
   "metadata": {},
   "outputs": [],
   "source": [
    "var1 : str = \"Hello\"\n",
    "my_var_2 : str = \"World\"\n"
   ]
  },
  {
   "cell_type": "markdown",
   "metadata": {},
   "source": [
    "4. Case-sensitive: myVar and myvar are different variables."
   ]
  },
  {
   "cell_type": "code",
   "execution_count": null,
   "metadata": {},
   "outputs": [
    {
     "name": "stdout",
     "output_type": "stream",
     "text": [
      "100\n",
      "200\n"
     ]
    }
   ],
   "source": [
    "myVar : int = 100\n",
    "myvar : int = 200\n",
    "print(myVar)  # Output: 100\n",
    "print(myvar)  # Output: 200\n"
   ]
  },
  {
   "cell_type": "markdown",
   "metadata": {},
   "source": [
    "5. Vriable Cannot be a reserved keyword: Python has a set of reserved words (like class, for, while, import, etc.) that cannot be used as variable names."
   ]
  },
  {
   "cell_type": "code",
   "execution_count": null,
   "metadata": {},
   "outputs": [
    {
     "ename": "SyntaxError",
     "evalue": "invalid syntax (4110239318.py, line 2)",
     "output_type": "error",
     "traceback": [
      "\u001b[1;36m  Cell \u001b[1;32mIn[7], line 2\u001b[1;36m\u001b[0m\n\u001b[1;33m    class : int = 5  # SyntaxError: invalid syntax\u001b[0m\n\u001b[1;37m          ^\u001b[0m\n\u001b[1;31mSyntaxError\u001b[0m\u001b[1;31m:\u001b[0m invalid syntax\n"
     ]
    }
   ],
   "source": [
    "# Invalid\n",
    "class : int = 5  # SyntaxError: invalid syntax\n",
    "\n",
    "# Valid\n",
    "class_name : str = \"Physics\""
   ]
  },
  {
   "cell_type": "markdown",
   "metadata": {},
   "source": [
    "## Using type() to Check Variable Type"
   ]
  },
  {
   "cell_type": "code",
   "execution_count": null,
   "metadata": {},
   "outputs": [
    {
     "name": "stdout",
     "output_type": "stream",
     "text": [
      "ali 10\n",
      "<class 'str'>\n",
      "<class 'int'>\n"
     ]
    }
   ],
   "source": [
    "name = \"ali\"\n",
    "roll_number = 10\n",
    "print(name, roll_number)\n",
    "print(type(name))\n",
    "print(type(roll_number))"
   ]
  },
  {
   "cell_type": "markdown",
   "metadata": {},
   "source": [
    "## Difference between variable and value"
   ]
  },
  {
   "cell_type": "code",
   "execution_count": null,
   "metadata": {},
   "outputs": [],
   "source": [
    "name : str = \"Khalid Nawaz\"\n",
    "# Here namme is a valibale, str is datatype and \"khalid nawaz\" is value.\n",
    "number : int = 100\n",
    "# number is varibale int is datatype and 100 is value"
   ]
  },
  {
   "cell_type": "markdown",
   "metadata": {},
   "source": [
    "## const in Python\n",
    "In python no constent exist but if you want declear const just make declear variable in capitals "
   ]
  },
  {
   "cell_type": "code",
   "execution_count": 4,
   "metadata": {},
   "outputs": [
    {
     "name": "stdout",
     "output_type": "stream",
     "text": [
      "Dog\n",
      "Dogi\n"
     ]
    }
   ],
   "source": [
    "animal : str = \"Dog\" \n",
    "# animal is variable \n",
    "ANIMAL : str = \"Dogi\"\n",
    "# ANIMAL is const\n",
    "print(animal)\n",
    "print(ANIMAL)"
   ]
  }
 ],
 "metadata": {
  "kernelspec": {
   "display_name": "virtualenv",
   "language": "python",
   "name": "python3"
  },
  "language_info": {
   "codemirror_mode": {
    "name": "ipython",
    "version": 3
   },
   "file_extension": ".py",
   "mimetype": "text/x-python",
   "name": "python",
   "nbconvert_exporter": "python",
   "pygments_lexer": "ipython3",
   "version": "3.12.0"
  }
 },
 "nbformat": 4,
 "nbformat_minor": 2
}
