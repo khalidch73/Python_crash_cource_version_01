{
 "cells": [
  {
   "cell_type": "markdown",
   "metadata": {},
   "source": [
    "# Comments in Python\n",
    "\n",
    "Comments in Python are used to explain code and make it more readable. They are not executed by the Python interpreter, so they don’t affect how your code runs. Comments are helpful for anyone reading your code, including your future self, as they provide context and explanations for why certain decisions were made.\n",
    "\n",
    "## Types of Comments in Python\n",
    "Single-Line Comments\n",
    "Multi-Line Comments (also known as block comments)\n",
    "Docstrings (Documentation Strings)"
   ]
  },
  {
   "cell_type": "markdown",
   "metadata": {},
   "source": [
    "1. Single-Line Comments\n",
    "Single-line comments start with the # symbol. Everything after # on that line is considered a comment and is ignored by the Python interpreter."
   ]
  },
  {
   "cell_type": "code",
   "execution_count": 2,
   "metadata": {},
   "outputs": [
    {
     "name": "stdout",
     "output_type": "stream",
     "text": [
      "Hello, World!\n"
     ]
    }
   ],
   "source": [
    "# This is a single-line comment\n",
    "print(\"Hello, World!\")  # This comment is after a statement\n"
   ]
  },
  {
   "cell_type": "markdown",
   "metadata": {},
   "source": [
    "2. Multi-Line Comments (also known as block comments)\n",
    "Python does not have a specific syntax for multi-line comments like some other programming languages. However, you can create multi-line comments by using multiple single-line comments or by using triple quotes. While triple quotes are actually used for multi-line strings (docstrings), they can also be used to create comments that span multiple lines."
   ]
  },
  {
   "cell_type": "markdown",
   "metadata": {},
   "source": [
    "Using Multiple Single-Line Comments"
   ]
  },
  {
   "cell_type": "code",
   "execution_count": 3,
   "metadata": {},
   "outputs": [],
   "source": [
    "# This is a multi-line comment\n",
    "# Each line starts with a #\n",
    "# This comment spans multiple lines\n"
   ]
  },
  {
   "cell_type": "markdown",
   "metadata": {},
   "source": [
    "Using Triple Quotes"
   ]
  },
  {
   "cell_type": "code",
   "execution_count": 4,
   "metadata": {},
   "outputs": [
    {
     "data": {
      "text/plain": [
       "'\\nThis is a multi-line comment using triple quotes.\\nIt spans multiple lines.\\n'"
      ]
     },
     "execution_count": 4,
     "metadata": {},
     "output_type": "execute_result"
    }
   ],
   "source": [
    "\"\"\"\n",
    "This is a multi-line comment using triple quotes.\n",
    "It spans multiple lines.\n",
    "\"\"\"\n"
   ]
  },
  {
   "cell_type": "markdown",
   "metadata": {},
   "source": [
    "3. Docstrings (Documentation Strings)\n",
    "Docstrings are a special kind of comment used to document modules, classes, functions, and methods. They are written using triple quotes (\"\"\" or '''). Docstrings are not just comments; they are stored as attributes of the objects they document and can be accessed at runtime using the __doc__ attribute.\n",
    "\n",
    "Example of a Function Docstring"
   ]
  },
  {
   "cell_type": "code",
   "execution_count": 5,
   "metadata": {},
   "outputs": [
    {
     "name": "stdout",
     "output_type": "stream",
     "text": [
      "\n",
      "    This function adds two numbers and returns the result.\n",
      "    \n",
      "    Parameters:\n",
      "    a (int, float): The first number to add.\n",
      "    b (int, float): The second number to add.\n",
      "    \n",
      "    Returns:\n",
      "    int, float: The sum of a and b.\n",
      "    \n"
     ]
    }
   ],
   "source": [
    "def add(a, b):\n",
    "    \"\"\"\n",
    "    This function adds two numbers and returns the result.\n",
    "    \n",
    "    Parameters:\n",
    "    a (int, float): The first number to add.\n",
    "    b (int, float): The second number to add.\n",
    "    \n",
    "    Returns:\n",
    "    int, float: The sum of a and b.\n",
    "    \"\"\"\n",
    "    return a + b\n",
    "\n",
    "# Accessing the docstring\n",
    "print(add.__doc__)\n"
   ]
  },
  {
   "cell_type": "markdown",
   "metadata": {},
   "source": [
    "## Conclusion\n",
    "Comments are a crucial part of writing readable and maintainable code. They provide context and explanations that can help others (and yourself) understand your code better. Use single-line comments for brief explanations, multi-line comments for longer descriptions, and docstrings for documenting modules, classes, and functions.\n",
    "\n",
    "By following these best practices and understanding the types of comments, you can write clearer and more understandable Python code.\n",
    "\n",
    "\n",
    "\n",
    "\n",
    "\n",
    "\n",
    "\n"
   ]
  }
 ],
 "metadata": {
  "kernelspec": {
   "display_name": "virtualenv",
   "language": "python",
   "name": "python3"
  },
  "language_info": {
   "codemirror_mode": {
    "name": "ipython",
    "version": 3
   },
   "file_extension": ".py",
   "mimetype": "text/x-python",
   "name": "python",
   "nbconvert_exporter": "python",
   "pygments_lexer": "ipython3",
   "version": "3.12.0"
  }
 },
 "nbformat": 4,
 "nbformat_minor": 2
}
