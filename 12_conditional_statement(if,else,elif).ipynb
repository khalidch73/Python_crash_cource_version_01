{
 "cells": [
  {
   "cell_type": "markdown",
   "metadata": {},
   "source": [
    "# Control Flow though Conditional Statements (if, elif, else) in python Programming."
   ]
  },
  {
   "cell_type": "markdown",
   "metadata": {},
   "source": [
    "Conditional statements in Python allow you to execute certain pieces of code based on whether a condition is true or false. The most common conditional statements are if, elif, and else.\n",
    "\n",
    "## 1. if Statement\n",
    "The if statement allows you to check a condition and execute a block of code if the condition is true."
   ]
  },
  {
   "cell_type": "code",
   "execution_count": 2,
   "metadata": {},
   "outputs": [
    {
     "name": "stdout",
     "output_type": "stream",
     "text": [
      "5 is Less then 10\n"
     ]
    }
   ],
   "source": [
    "x : int = 10 \n",
    "if x > 5:\n",
    "    print(f\"5 is Less then {x}.\") # This will be printed"
   ]
  },
  {
   "cell_type": "markdown",
   "metadata": {},
   "source": [
    "## 2. elif Statement\n",
    "The elif (short for \"else if\") statement allows you to check multiple conditions. If the first if condition is false, Python checks the elif condition."
   ]
  },
  {
   "cell_type": "code",
   "execution_count": 3,
   "metadata": {},
   "outputs": [
    {
     "name": "stdout",
     "output_type": "stream",
     "text": [
      "20 is greater then 10.\n"
     ]
    }
   ],
   "source": [
    "x : int = 20 \n",
    "if x > 50:\n",
    "    print(f\"{x} is greater then 50.\")\n",
    "elif x > 10:\n",
    "    print(f\"{x} is greater then 10.\") # This will be printed\n",
    "    "
   ]
  },
  {
   "cell_type": "markdown",
   "metadata": {},
   "source": [
    "## 3. else Statement\n",
    "The else statement allows you to execute a block of code if none of the preceding conditions are true."
   ]
  },
  {
   "cell_type": "code",
   "execution_count": 4,
   "metadata": {},
   "outputs": [
    {
     "name": "stdout",
     "output_type": "stream",
     "text": [
      "5 is equal to 5.\n"
     ]
    }
   ],
   "source": [
    "x : int = 5\n",
    "if x > 20:\n",
    "    print(f\"{x} is greater then 20.\")\n",
    "elif x > 10:\n",
    "    print(f\"{x} is greater then 10.\")\n",
    "else:\n",
    "    print(f\"{x} is equal to 5.\") # This will be printed"
   ]
  },
  {
   "cell_type": "markdown",
   "metadata": {},
   "source": [
    "### Combining if, elif, and else\n",
    "You can combine if, elif, and else to create a chain of conditions."
   ]
  },
  {
   "cell_type": "code",
   "execution_count": 6,
   "metadata": {},
   "outputs": [
    {
     "name": "stdout",
     "output_type": "stream",
     "text": [
      "20 is greater than 15 but less than or equal to 25\n"
     ]
    }
   ],
   "source": [
    "x : int = 20\n",
    "\n",
    "if x > 25:\n",
    "    print(f\"{x} is greater than 25\")\n",
    "elif x > 15:\n",
    "    print(f\"{x} is greater than 15 but less than or equal to 25\")  # This will be printed\n",
    "elif x > 10:\n",
    "    print(f\"{x} is greater than 10 but less than or equal to 15\")\n",
    "else:\n",
    "    print(f\"{x} is 10 or less\")\n"
   ]
  },
  {
   "cell_type": "markdown",
   "metadata": {},
   "source": [
    "## Nested Conditional Statements\n",
    "You can nest conditional statements within each other to check multiple conditions."
   ]
  },
  {
   "cell_type": "code",
   "execution_count": 7,
   "metadata": {},
   "outputs": [
    {
     "name": "stdout",
     "output_type": "stream",
     "text": [
      "10 is greater than 5\n",
      "5 is less than 10\n"
     ]
    }
   ],
   "source": [
    "x : int = 10\n",
    "y : int = 5\n",
    "\n",
    "if x > 5:\n",
    "    print(f\"{x} is greater than 5\")  # This will be printed\n",
    "    if y < 10:\n",
    "        print(f\"{y} is less than 10\")  # This will be printed\n"
   ]
  },
  {
   "cell_type": "markdown",
   "metadata": {},
   "source": [
    "## Example: Using Logical Operators\n",
    "You can use logical operators (and, or, not) to combine multiple conditions."
   ]
  },
  {
   "cell_type": "code",
   "execution_count": 9,
   "metadata": {},
   "outputs": [
    {
     "name": "stdout",
     "output_type": "stream",
     "text": [
      "Both conditions are true\n",
      "At least one condition is true\n",
      "10 is not greater than 15\n"
     ]
    }
   ],
   "source": [
    "x : int = 10\n",
    "y : int = 20\n",
    "\n",
    "if x > 5 and y > 15:\n",
    "    print(\"Both conditions are true\")  # This will be printed\n",
    "\n",
    "if x > 15 or y > 15:\n",
    "    print(\"At least one condition is true\")  # This will be printed\n",
    "\n",
    "if not x > 15:\n",
    "    print(f\"{x} is not greater than 15\")  # This will be printed\n"
   ]
  },
  {
   "cell_type": "markdown",
   "metadata": {},
   "source": [
    "## Conditional statemet in Strings\n",
    "You can use conditional statements to compare strings or check their properties."
   ]
  },
  {
   "cell_type": "code",
   "execution_count": 11,
   "metadata": {},
   "outputs": [
    {
     "name": "stdout",
     "output_type": "stream",
     "text": [
      "Hello, Ali!\n"
     ]
    }
   ],
   "source": [
    "name : str = \"Ali\"\n",
    "\n",
    "if name == \"Ali\":\n",
    "    print(\"Hello, Ali!\")  # This will be printed\n",
    "elif name == \"Bobi\":\n",
    "    print(\"Hello, Bobi!\")\n",
    "else:\n",
    "    print(\"Hello, stranger!\")\n"
   ]
  },
  {
   "cell_type": "markdown",
   "metadata": {},
   "source": [
    "## Conditional statements in Integers\n",
    "Conditional statements are often used to compare integer values."
   ]
  },
  {
   "cell_type": "code",
   "execution_count": 12,
   "metadata": {},
   "outputs": [
    {
     "name": "stdout",
     "output_type": "stream",
     "text": [
      "You are an adult.\n"
     ]
    }
   ],
   "source": [
    "age : int = 18\n",
    "\n",
    "if age < 13:\n",
    "    print(\"You are a child.\")\n",
    "elif age < 18:\n",
    "    print(\"You are a teenager.\")\n",
    "else:\n",
    "    print(\"You are an adult.\")  # This will be printed\n"
   ]
  },
  {
   "cell_type": "markdown",
   "metadata": {},
   "source": [
    "## Conditional statements in Sets\n",
    "You can use conditional statements to check for membership, size, or other properties of sets."
   ]
  },
  {
   "cell_type": "code",
   "execution_count": 14,
   "metadata": {},
   "outputs": [
    {
     "name": "stdout",
     "output_type": "stream",
     "text": [
      "Apple is in the set.\n",
      "There are 3 fruits in set..\n"
     ]
    }
   ],
   "source": [
    "fruits : set = {\"apple\", \"banana\", \"cherry\", \"Mango\"}\n",
    "\n",
    "if \"apple\" in fruits:\n",
    "    print(\"Apple is in the set.\")  # This will be printed\n",
    "if len(fruits) == 3:\n",
    "    print(\"There are 3 fruits in set.\")\n",
    "else:\n",
    "    print(\"There are 3 fruits in set.\")  # This will be printed\n"
   ]
  },
  {
   "cell_type": "markdown",
   "metadata": {},
   "source": [
    "## Conditinal statements in Tuples\n",
    "Conditional statements can be used to check membership or compare tuples."
   ]
  },
  {
   "cell_type": "code",
   "execution_count": 17,
   "metadata": {},
   "outputs": [
    {
     "name": "stdout",
     "output_type": "stream",
     "text": [
      "Coordinates are (10, 20).\n"
     ]
    }
   ],
   "source": [
    "coordinates : tuple[int]= (10, 20)\n",
    "\n",
    "if coordinates == (10, 20):\n",
    "    print(\"Coordinates are (10, 20).\")  # This will be printed\n",
    "elif coordinates[0] > 5:\n",
    "    print(\"The first coordinate is greater than 5.\")\n",
    "else:\n",
    "    print(\"Different coordinates.\")\n"
   ]
  },
  {
   "cell_type": "markdown",
   "metadata": {},
   "source": [
    "##  Conditinal statements in Dictionaries\n",
    "Conditional statements can check for the existence of keys, values, or compare entire dictionaries."
   ]
  },
  {
   "cell_type": "code",
   "execution_count": 20,
   "metadata": {},
   "outputs": [
    {
     "name": "stdout",
     "output_type": "stream",
     "text": [
      "Name is in the dictionary.\n",
      "Age is 30.\n"
     ]
    }
   ],
   "source": [
    "person : dict = {\"name\": \"Alice\", \"age\": 30}\n",
    "\n",
    "if \"name\" in person:\n",
    "    print(\"Name is in the dictionary.\")  # This will be printed\n",
    "if person.get(\"age\") == 30:\n",
    "    print(\"Age is 30.\")  # This will be printed\n",
    "else:\n",
    "    print(\"Age is not 30.\")\n"
   ]
  },
  {
   "cell_type": "markdown",
   "metadata": {},
   "source": [
    "## Conditional statement in Ranges\n",
    "You can use conditional statements to check if values are within a range or to compare ranges."
   ]
  },
  {
   "cell_type": "code",
   "execution_count": 22,
   "metadata": {},
   "outputs": [
    {
     "name": "stdout",
     "output_type": "stream",
     "text": [
      "7 is in the range.\n",
      "The range has 9 elements.\n",
      "9\n"
     ]
    }
   ],
   "source": [
    "num : int = 7\n",
    "num_range : range = range(1, 10)\n",
    "\n",
    "if num in num_range:\n",
    "    print(f\"{num} is in the range.\")  # This will be printed\n",
    "if len(num_range) == 9:\n",
    "    print(\"The range has 9 elements.\")  # This will be printed\n",
    "else:\n",
    "    print(\"The range does not have 9 elements.\")\n",
    "print(len(num_range))\n"
   ]
  },
  {
   "cell_type": "markdown",
   "metadata": {},
   "source": [
    "## Conclusion\n",
    "Conditional statements (if, elif, else) are essential in Python for controlling the flow of your program based on different conditions. By understanding how to use these statements, you can write more flexible and dynamic code."
   ]
  }
 ],
 "metadata": {
  "kernelspec": {
   "display_name": "virtualenv",
   "language": "python",
   "name": "python3"
  },
  "language_info": {
   "codemirror_mode": {
    "name": "ipython",
    "version": 3
   },
   "file_extension": ".py",
   "mimetype": "text/x-python",
   "name": "python",
   "nbconvert_exporter": "python",
   "pygments_lexer": "ipython3",
   "version": "3.12.0"
  }
 },
 "nbformat": 4,
 "nbformat_minor": 2
}
