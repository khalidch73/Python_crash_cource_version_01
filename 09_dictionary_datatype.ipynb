{
 "cells": [
  {
   "cell_type": "markdown",
   "metadata": {},
   "source": [
    "# Dictinary (dict) datatype with methods and attributes in Python"
   ]
  },
  {
   "cell_type": "markdown",
   "metadata": {},
   "source": [
    "Dictionaries are used to store data values in key:value pairs.\n",
    "\n",
    "* A dictionary is a collection which is ordered*, changeable and do not allow duplicates.\n",
    "\n",
    "* As of Python version 3.7, dictionaries are ordered. In Python 3.6 and earlier, dictionaries are unordered.\n",
    "\n",
    "* Dictionaries are written with curly brackets, and have keys and values:\n",
    "\n",
    "* Dictionaries are defined by enclosing the key-value pairs in curly braces {}, with a colon (:) separating keys and values."
   ]
  },
  {
   "cell_type": "markdown",
   "metadata": {},
   "source": [
    "## Creating Dictionaries\n",
    "Here are some examples of creating dictionaries:"
   ]
  },
  {
   "cell_type": "code",
   "execution_count": 1,
   "metadata": {},
   "outputs": [
    {
     "name": "stdout",
     "output_type": "stream",
     "text": [
      "{'name': 'Alice', 'age': 30, 'city': 'New York'}\n",
      "{'name': 'Bob', 'age': 25, 'city': 'Los Angeles'}\n"
     ]
    }
   ],
   "source": [
    "# An empty dictionary\n",
    "empty_dict : dict = {}\n",
    "\n",
    "# A dictionary with some key-value pairs\n",
    "person : dict = {\n",
    "    \"name\": \"Alice\",\n",
    "    \"age\": 30,\n",
    "    \"city\": \"New York\"\n",
    "}\n",
    "\n",
    "# Using the dict() constructor for make dictionary\n",
    "person2 : dict = dict(name=\"Bob\", age=25, city=\"Los Angeles\")\n",
    "\n",
    "print(person)\n",
    "print(person2)"
   ]
  },
  {
   "cell_type": "markdown",
   "metadata": {},
   "source": [
    "## Accessing and Modifying Dictionary Elements\n",
    "You can access and modify dictionary elements using keys:"
   ]
  },
  {
   "cell_type": "code",
   "execution_count": 3,
   "metadata": {},
   "outputs": [
    {
     "name": "stdout",
     "output_type": "stream",
     "text": [
      "{'name': 'Alice', 'age': 30, 'city': 'New York'}\n",
      "Alice\n",
      "31\n",
      "alice@example.com\n",
      "{'name': 'Alice', 'age': 31, 'email': 'alice@example.com'}\n"
     ]
    }
   ],
   "source": [
    "person : dict = {\n",
    "    \"name\": \"Alice\",\n",
    "    \"age\": 30,\n",
    "    \"city\": \"New York\"\n",
    "}\n",
    "print(person)\n",
    "\n",
    "# Accessing values\n",
    "print(person[\"name\"])  # Output: Alice\n",
    "\n",
    "# Modifying values\n",
    "person[\"age\"] = 31\n",
    "print(person[\"age\"])  # Output: 31\n",
    "\n",
    "# Adding a new key-value pair\n",
    "person[\"email\"] = \"alice@example.com\"\n",
    "print(person[\"email\"])  # Output: alice@example.com\n",
    "\n",
    "# Removing a key-value pair\n",
    "del person[\"city\"]\n",
    "print(person)  # Output: {'name': 'Alice', 'age': 31, 'email': 'alice@example.com'}\n"
   ]
  },
  {
   "cell_type": "markdown",
   "metadata": {},
   "source": [
    "## Duplicates Not Allowed in dictionary "
   ]
  },
  {
   "cell_type": "code",
   "execution_count": 16,
   "metadata": {},
   "outputs": [
    {
     "name": "stdout",
     "output_type": "stream",
     "text": [
      "{'brand': 'Ford', 'model': 'Mustang', 'year': 2020}\n"
     ]
    }
   ],
   "source": [
    "# Dictionaries cannot have two items with the same key:\n",
    "\n",
    "# Example\n",
    "# Duplicate values will overwrite existing values:\n",
    "\n",
    "this_dict = {\n",
    "  \"brand\": \"Ford\",\n",
    "  \"model\": \"Mustang\",\n",
    "  \"year\": 1964,\n",
    "  \"year\": 2020\n",
    "}\n",
    "print(this_dict)\n"
   ]
  },
  {
   "cell_type": "markdown",
   "metadata": {},
   "source": [
    "## Methods and Attributes\n",
    "Here are some commonly used methods and attributes of dictionaries:\n",
    "\n",
    "1. clear()\n",
    "\n",
    "Removes all elements from the dictionary."
   ]
  },
  {
   "cell_type": "code",
   "execution_count": 4,
   "metadata": {},
   "outputs": [
    {
     "name": "stdout",
     "output_type": "stream",
     "text": [
      "{}\n"
     ]
    }
   ],
   "source": [
    "person : dict = {\"name\": \"Alice\", \"age\": 30, \"city\": \"New York\"}\n",
    "person.clear()\n",
    "print(person)  # Output: {} empty dict\n"
   ]
  },
  {
   "cell_type": "markdown",
   "metadata": {},
   "source": [
    "## Type casting in Dictionary "
   ]
  },
  {
   "cell_type": "code",
   "execution_count": 17,
   "metadata": {},
   "outputs": [
    {
     "name": "stdout",
     "output_type": "stream",
     "text": [
      "{'name': 'Ali', 'father name': 'saad', 'qualification': 'BS.IT', 'roll no': 123, 'dict': {2: 'two', 3: {'three'}}}\n",
      "two\n"
     ]
    }
   ],
   "source": [
    "from typing import Union\n",
    "key = Union[str, int, float, tuple] # which type is hashable can become a key\n",
    "value = Union[str, int,float, dict, set, list, tuple]\n",
    "student_data : dict[key, value] = {'name':'Ali',  'father name':'saad','qualification':'BS.IT','roll no': 123, 'dict':{2:'two', 3:{'three'}}}\n",
    "print(student_data)\n",
    "print(student_data['dict'][2])"
   ]
  },
  {
   "cell_type": "markdown",
   "metadata": {},
   "source": [
    "2. copy()\n",
    "\n",
    "Returns a shallow copy of the dictionary."
   ]
  },
  {
   "cell_type": "code",
   "execution_count": 6,
   "metadata": {},
   "outputs": [
    {
     "name": "stdout",
     "output_type": "stream",
     "text": [
      "{'name': 'Alice', 'age': 30}\n"
     ]
    }
   ],
   "source": [
    "person : dict[str:str, str:int] = {\"name\": \"Alice\", \"age\": 30}\n",
    "copy_person : dict = person.copy()\n",
    "print(copy_person)  # Output: {'name': 'Alice', 'age': 30}\n"
   ]
  },
  {
   "cell_type": "markdown",
   "metadata": {},
   "source": [
    "3. get(key[, default])\n",
    "\n",
    "Returns the value for key if key is in the dictionary, else default."
   ]
  },
  {
   "cell_type": "code",
   "execution_count": 9,
   "metadata": {},
   "outputs": [
    {
     "name": "stdout",
     "output_type": "stream",
     "text": [
      "Alice\n",
      "Lahore\n"
     ]
    }
   ],
   "source": [
    "person : dict  = {\"name\": \"Alice\", \"age\": 30}\n",
    "print(person.get(\"name\",))  # Output: Alice\n",
    "print(person.get(\"city\", \"Lahore\"))  # Output: lahore if item not present in dict its will create automatically and return\n"
   ]
  },
  {
   "cell_type": "markdown",
   "metadata": {},
   "source": [
    "4. items()\n",
    "\n",
    "Returns a view object that displays a list of dictionary's key-value tuple pairs."
   ]
  },
  {
   "cell_type": "code",
   "execution_count": 10,
   "metadata": {},
   "outputs": [
    {
     "name": "stdout",
     "output_type": "stream",
     "text": [
      "dict_items([('name', 'Alice'), ('age', 30)])\n"
     ]
    }
   ],
   "source": [
    "person : dict  = {\"name\": \"Alice\", \"age\": 30}\n",
    "items = person.items()\n",
    "print(items)\n"
   ]
  },
  {
   "cell_type": "markdown",
   "metadata": {},
   "source": [
    "5. keys()\n",
    "\n",
    "Returns a view object that displays a list of all the keys in the dictionary."
   ]
  },
  {
   "cell_type": "code",
   "execution_count": 11,
   "metadata": {},
   "outputs": [
    {
     "name": "stdout",
     "output_type": "stream",
     "text": [
      "dict_keys(['name', 'age'])\n"
     ]
    }
   ],
   "source": [
    "person : dict = {\"name\": \"Alice\", \"age\": 30}\n",
    "print(person.keys())  # Output: dict_keys(['name', 'age'])\n"
   ]
  },
  {
   "cell_type": "markdown",
   "metadata": {},
   "source": [
    "6. values()\n",
    "\n",
    "Returns a view object that displays a list of all the values in the dictionary."
   ]
  },
  {
   "cell_type": "code",
   "execution_count": 12,
   "metadata": {},
   "outputs": [
    {
     "name": "stdout",
     "output_type": "stream",
     "text": [
      "dict_values(['Alice', 30])\n"
     ]
    }
   ],
   "source": [
    "person : dict = {\"name\": \"Alice\", \"age\": 30}\n",
    "print(person.values())  # Output: dict_values(['Alice', 30])\n"
   ]
  },
  {
   "cell_type": "markdown",
   "metadata": {},
   "source": [
    "7. pop(key[, default])\n",
    "\n",
    "Removes the specified key and returns the corresponding value. If the key is not found, returns default if provided; otherwise, raises a KeyError"
   ]
  },
  {
   "cell_type": "code",
   "execution_count": 13,
   "metadata": {},
   "outputs": [
    {
     "name": "stdout",
     "output_type": "stream",
     "text": [
      "30\n",
      "{'name': 'Alice'}\n"
     ]
    }
   ],
   "source": [
    "person : dict = {\"name\": \"Alice\", \"age\": 30}\n",
    "age_remove = person.pop(\"age\")\n",
    "print(age_remove)  # Output: 30\n",
    "print(person)  # Output: {'name': 'Alice'}\n"
   ]
  },
  {
   "cell_type": "markdown",
   "metadata": {},
   "source": [
    "8. popitem()\n",
    "\n",
    "Removes and returns a key-value pair from the dictionary. Pairs are returned in LIFO (last-in, first-out) order."
   ]
  },
  {
   "cell_type": "code",
   "execution_count": 14,
   "metadata": {},
   "outputs": [
    {
     "name": "stdout",
     "output_type": "stream",
     "text": [
      "('age', 30)\n",
      "{'name': 'Alice'}\n"
     ]
    }
   ],
   "source": [
    "person : dict = {\"name\": \"Alice\", \"age\": 30}\n",
    "item = person.popitem()\n",
    "print(item)  # Output: ('age', 30) remove the last item from the dictionary \n",
    "print(person)  # Output: {'name': 'Alice'}\n"
   ]
  },
  {
   "cell_type": "markdown",
   "metadata": {},
   "source": [
    "9. update([other])\n",
    "\n",
    "Updates the dictionary with the key-value pairs from other, overwriting existing keys."
   ]
  },
  {
   "cell_type": "code",
   "execution_count": 15,
   "metadata": {},
   "outputs": [
    {
     "name": "stdout",
     "output_type": "stream",
     "text": [
      "{'name': 'Alice', 'age': 31, 'city': 'New York'}\n"
     ]
    }
   ],
   "source": [
    "person : dict = {\"name\": \"Alice\", \"age\": 30}\n",
    "person.update({\"age\": 31, \"city\": \"New York\"})\n",
    "print(person)  # Output: {'name': 'Alice', 'age': 31, 'city': 'New York'}\n"
   ]
  },
  {
   "cell_type": "markdown",
   "metadata": {},
   "source": [
    "## Conclusion\n",
    "\n",
    "Dictionaries are a powerful and flexible data structure in Python, allowing you to map keys to values efficiently. They are widely used for various tasks, such as managing configurations, storing data attributes, and implementing lookup tables. Understanding the methods and attributes of dictionaries will help you use them effectively in your Python programs."
   ]
  }
 ],
 "metadata": {
  "kernelspec": {
   "display_name": "virtualenv",
   "language": "python",
   "name": "python3"
  },
  "language_info": {
   "codemirror_mode": {
    "name": "ipython",
    "version": 3
   },
   "file_extension": ".py",
   "mimetype": "text/x-python",
   "name": "python",
   "nbconvert_exporter": "python",
   "pygments_lexer": "ipython3",
   "version": "3.12.0"
  }
 },
 "nbformat": 4,
 "nbformat_minor": 2
}
