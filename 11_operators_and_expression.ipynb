{
 "cells": [
  {
   "cell_type": "markdown",
   "metadata": {},
   "source": [
    "# Operators and expressions in Python programming."
   ]
  },
  {
   "cell_type": "markdown",
   "metadata": {},
   "source": [
    "Operators and expressions are fundamental in Python programming. Operators allow you to perform operations on variables and values, while expressions combine variables, values, and operators to produce a result. Here’s a comprehensive overview of the different types of operators and how they are used in expressions."
   ]
  },
  {
   "cell_type": "markdown",
   "metadata": {},
   "source": [
    "## 1. Arithmetic Operators\n",
    "Arithmetic operators are used to perform mathematical operations such as addition, subtraction, multiplication, and division."
   ]
  },
  {
   "cell_type": "code",
   "execution_count": 2,
   "metadata": {},
   "outputs": [
    {
     "name": "stdout",
     "output_type": "stream",
     "text": [
      "13\n",
      "7\n",
      "30\n",
      "3.3333333333333335\n",
      "3\n",
      "1\n",
      "1000\n"
     ]
    }
   ],
   "source": [
    "a : int = 10\n",
    "b : int = 3\n",
    "\n",
    "# Addition\n",
    "print(a + b)  # Output: 13\n",
    "\n",
    "# Subtraction\n",
    "print(a - b)  # Output: 7\n",
    "\n",
    "# Multiplication\n",
    "print(a * b)  # Output: 30\n",
    "\n",
    "# Division\n",
    "print(a / b)  # Output: 3.3333333333333335\n",
    "\n",
    "# Floor Division\n",
    "print(a // b)  # Output: 3\n",
    "\n",
    "# Modulus (remainder)\n",
    "print(a % b)  # Output: 1\n",
    "\n",
    "# Exponentiation\n",
    "print(a ** b)  # Output: 1000\n"
   ]
  },
  {
   "cell_type": "markdown",
   "metadata": {},
   "source": [
    "## 2. Comparison Operators\n",
    "Comparison operators compare two values and return a Boolean value (True or False)."
   ]
  },
  {
   "cell_type": "code",
   "execution_count": 1,
   "metadata": {},
   "outputs": [
    {
     "name": "stdout",
     "output_type": "stream",
     "text": [
      "False\n",
      "True\n",
      "True\n",
      "False\n",
      "True\n",
      "False\n"
     ]
    }
   ],
   "source": [
    "a : int = 10\n",
    "b : int = 3\n",
    "\n",
    "print(a == b)   # Output: False\n",
    "print(a != b)   # Output: True\n",
    "print(a > b)    # Output: True\n",
    "print(a < b)    # Output: False\n",
    "print(a >= b)   # Output: True\n",
    "print(a <= b)   # Output: False\n"
   ]
  },
  {
   "cell_type": "markdown",
   "metadata": {},
   "source": [
    "## 3. Logical Operators\n",
    "Logical operators are used to combine conditional statements."
   ]
  },
  {
   "cell_type": "code",
   "execution_count": 4,
   "metadata": {},
   "outputs": [
    {
     "name": "stdout",
     "output_type": "stream",
     "text": [
      "Logical AND\n",
      "False\n",
      "False\n",
      "True\n",
      "False\n",
      "Logical OR\n",
      "True\n",
      "True\n",
      "True\n",
      "False\n",
      "Logical NOT\n",
      "False\n",
      "True\n"
     ]
    }
   ],
   "source": [
    "t : bool = True\n",
    "f : bool = False\n",
    "\n",
    "# Logical AND\n",
    "print(\"Logical AND\")\n",
    "print(t and f)  # Output: False\n",
    "print(f and t)  # Output: False\n",
    "print(t and t)  # Output: True\n",
    "print(f and f)  # Output: False\n",
    "\n",
    "\n",
    "# Logical OR\n",
    "print(\"Logical OR\")\n",
    "print(t or f)  # Output: True\n",
    "print(f or t)  # Output: True\n",
    "print(t or t)  # Output: True\n",
    "print(f or f)  # Output: False\n",
    "\n",
    "\n",
    "# Logical NOT\n",
    "print(\"Logical NOT\")\n",
    "print(not t)  # Output: False\n",
    "print(not f)  # Output: True\n",
    "\n"
   ]
  },
  {
   "cell_type": "markdown",
   "metadata": {},
   "source": [
    "## 4. Assignment Operators\n",
    "Assignment operators are used to assign values to variables."
   ]
  },
  {
   "cell_type": "code",
   "execution_count": 5,
   "metadata": {},
   "outputs": [
    {
     "name": "stdout",
     "output_type": "stream",
     "text": [
      "8\n",
      "6\n",
      "12\n",
      "4.0\n",
      "2.0\n",
      "0.0\n",
      "0.0\n"
     ]
    }
   ],
   "source": [
    "a : int = 5\n",
    "\n",
    "# Addition Assignment\n",
    "a += 3  # Equivalent to a = a + 3\n",
    "print(a)  # Output: 8\n",
    "\n",
    "# Subtraction Assignment\n",
    "a -= 2  # Equivalent to a = a - 2\n",
    "print(a)  # Output: 6\n",
    "\n",
    "# Multiplication Assignment\n",
    "a *= 2  # Equivalent to a = a * 2\n",
    "print(a)  # Output: 12\n",
    "\n",
    "# Division Assignment\n",
    "a /= 3  # Equivalent to a = a / 3\n",
    "print(a)  # Output: 4.0\n",
    "\n",
    "# Floor Division Assignment\n",
    "a //= 2  # Equivalent to a = a // 2\n",
    "print(a)  # Output: 2.0\n",
    "\n",
    "# Modulus Assignment\n",
    "a %= 2  # Equivalent to a = a % 2\n",
    "print(a)  # Output: 0.0\n",
    "\n",
    "# Exponentiation Assignment\n",
    "a **= 3  # Equivalent to a = a ** 3\n",
    "print(a)  # Output: 0.0\n"
   ]
  },
  {
   "cell_type": "markdown",
   "metadata": {},
   "source": [
    "## 5. Membership Operators\n",
    "Membership operators test for membership in a sequence (such as strings, lists, or tuples)."
   ]
  },
  {
   "cell_type": "code",
   "execution_count": 7,
   "metadata": {},
   "outputs": [
    {
     "name": "stdout",
     "output_type": "stream",
     "text": [
      "True\n",
      "False\n",
      "True\n",
      "True\n",
      "False\n",
      "True\n"
     ]
    }
   ],
   "source": [
    "x : str = \"hello\"\n",
    "y : list = [1, 2, 3, 4]\n",
    "\n",
    "# in\n",
    "print('h' in x)  # Output: True\n",
    "print(5 in y)    # Output: False\n",
    "\n",
    "# not in\n",
    "print('z' not in x)  # Output: True\n",
    "print(5 not in y)    # Output: True\n",
    "\n",
    "\n"
   ]
  },
  {
   "cell_type": "markdown",
   "metadata": {},
   "source": [
    "## 6. Identity Operators\n",
    "Identity operators compare the memory locations of two objects."
   ]
  },
  {
   "cell_type": "code",
   "execution_count": null,
   "metadata": {},
   "outputs": [],
   "source": [
    "a : list[int] = [1, 2, 3]\n",
    "b : list[int] = [1, 2, 3]\n",
    "c = a\n",
    "\n",
    "# is\n",
    "print(a is c)  # Output: True\n",
    "print(a is b)  # Output: False\n",
    "\n",
    "# is not\n",
    "print(a is not b)  # Output: True\n",
    "print(a is not c)  # Output: False\n"
   ]
  },
  {
   "cell_type": "markdown",
   "metadata": {},
   "source": [
    "## Expressions\n",
    "An expression is a combination of variables, values, and operators that results in a value.\n",
    "\n",
    "### Examples of Expressions"
   ]
  },
  {
   "cell_type": "code",
   "execution_count": 8,
   "metadata": {},
   "outputs": [
    {
     "name": "stdout",
     "output_type": "stream",
     "text": [
      "30\n",
      "False\n",
      "Hello, world!\n",
      "True\n"
     ]
    }
   ],
   "source": [
    "# Arithmetic Expression\n",
    "result : int = (10 + 5) * 2\n",
    "print(result)  # Output: 30\n",
    "\n",
    "# Logical Expression\n",
    "x : int = 10\n",
    "y : int = 20\n",
    "is_greater = x > y and y < 30\n",
    "print(is_greater)  # Output: False\n",
    "\n",
    "# String Concatenation\n",
    "greeting : str = \"Hello, \" + \"world!\"\n",
    "print(greeting)  # Output: Hello, world!\n",
    "\n",
    "# List Membership Test\n",
    "numbers : list = [1, 2, 3, 4, 5]\n",
    "check : int = 3 in numbers\n",
    "print(check)  # Output: True\n"
   ]
  },
  {
   "cell_type": "markdown",
   "metadata": {},
   "source": [
    "## Conclusion\n",
    "Understanding operators and expressions is crucial for writing effective Python code. They form the building blocks of most programming tasks, enabling you to perform calculations, make decisions, and manipulate data efficiently. By mastering these concepts, you will be well-equipped to handle a wide range of programming challenges.\n",
    "\n",
    "\n",
    "\n",
    "\n",
    "\n",
    "\n"
   ]
  }
 ],
 "metadata": {
  "kernelspec": {
   "display_name": "virtualenv",
   "language": "python",
   "name": "python3"
  },
  "language_info": {
   "codemirror_mode": {
    "name": "ipython",
    "version": 3
   },
   "file_extension": ".py",
   "mimetype": "text/x-python",
   "name": "python",
   "nbconvert_exporter": "python",
   "pygments_lexer": "ipython3",
   "version": "3.12.0"
  }
 },
 "nbformat": 4,
 "nbformat_minor": 2
}
