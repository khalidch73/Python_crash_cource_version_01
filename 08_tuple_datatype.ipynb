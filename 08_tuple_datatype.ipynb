{
 "cells": [
  {
   "cell_type": "markdown",
   "metadata": {},
   "source": [
    "# Tuple (tuple) datatype with methods and attributes in Python."
   ]
  },
  {
   "cell_type": "markdown",
   "metadata": {},
   "source": [
    "In Python, a tuple is an immutable, ordered collection of items and allow duplicate value. Tuples are similar to lists, but unlike lists, they cannot be changed after they are created. Tuples are defined by enclosing the elements in parentheses ()."
   ]
  },
  {
   "cell_type": "markdown",
   "metadata": {},
   "source": [
    "## Creating Tuples\n",
    "\n",
    "Here are some examples of creating tuples:"
   ]
  },
  {
   "cell_type": "code",
   "execution_count": 2,
   "metadata": {},
   "outputs": [
    {
     "name": "stdout",
     "output_type": "stream",
     "text": [
      "()\n",
      "(1,)\n",
      "(1, 2, 3)\n",
      "(1, 'hello', 3.14, True)\n"
     ]
    }
   ],
   "source": [
    "# An empty tuple\n",
    "empty_tuple : tuple = ()\n",
    "print(empty_tuple)\n",
    "# A tuple with one item (note the comma)\n",
    "single_item_tuple : tuple[int] = (1,)\n",
    "print(single_item_tuple)\n",
    "# A tuple with multiple items\n",
    "multiple_items_tuple : tuple[int] = (1, 2, 3)\n",
    "print(multiple_items_tuple)\n",
    "# A tuple can contain elements of different types\n",
    "mixed_tuple : tuple[int, str, float, bool]= (1, \"hello\", 3.14, True)\n",
    "print(mixed_tuple)\n"
   ]
  },
  {
   "cell_type": "markdown",
   "metadata": {},
   "source": [
    "## Accessing Tuple Elements\n",
    "\n",
    "You can access tuple elements using indexing and slicing, similar to lists:"
   ]
  },
  {
   "cell_type": "code",
   "execution_count": 3,
   "metadata": {},
   "outputs": [
    {
     "name": "stdout",
     "output_type": "stream",
     "text": [
      "1\n",
      "5\n",
      "(2, 3)\n"
     ]
    }
   ],
   "source": [
    "my_tuple : tuple[int]= (1, 2, 3, 4, 5)\n",
    "\n",
    "# Accessing the first element\n",
    "print(my_tuple[0])  # Output: 1\n",
    "\n",
    "# Accessing the last element\n",
    "print(my_tuple[-1])  # Output: 5\n",
    "\n",
    "# Slicing a tuple\n",
    "print(my_tuple[1:3])  # Output: (2, 3)\n"
   ]
  },
  {
   "cell_type": "markdown",
   "metadata": {},
   "source": [
    "## Methods, Attributes and Tuple Operations.\n",
    "\n",
    "Since tuples are immutable, they have fewer methods compared to lists. Here are the main methods and attributes available for tuples:\n",
    "\n",
    "1. count(x):\n",
    "\n",
    "Returns the number of times an item x appears in the tuple."
   ]
  },
  {
   "cell_type": "code",
   "execution_count": 4,
   "metadata": {},
   "outputs": [
    {
     "name": "stdout",
     "output_type": "stream",
     "text": [
      "3\n"
     ]
    }
   ],
   "source": [
    "my_tuple : tuple[int]= (1, 2, 2, 3, 4, 2)\n",
    "print(my_tuple.count(2))  # Output: 3\n"
   ]
  },
  {
   "cell_type": "markdown",
   "metadata": {},
   "source": [
    "2. Concatenation\n"
   ]
  },
  {
   "cell_type": "code",
   "execution_count": 6,
   "metadata": {},
   "outputs": [
    {
     "name": "stdout",
     "output_type": "stream",
     "text": [
      "(1, 2, 3, 4)\n"
     ]
    }
   ],
   "source": [
    "tuple1 : tuple[int] = (1, 2)\n",
    "tuple2 : tuple[int] = (3, 4)\n",
    "result : tuple[int] = tuple1 + tuple2\n",
    "print(result)  # Output: (1, 2, 3, 4)\n"
   ]
  },
  {
   "cell_type": "markdown",
   "metadata": {},
   "source": [
    "3. Repetition\n",
    "\n",
    "You can repeat a tuple using the * operator."
   ]
  },
  {
   "cell_type": "code",
   "execution_count": 7,
   "metadata": {},
   "outputs": [
    {
     "name": "stdout",
     "output_type": "stream",
     "text": [
      "(1, 2, 1, 2, 1, 2)\n"
     ]
    }
   ],
   "source": [
    "my_tuple : tuple[int] = (1, 2)\n",
    "result : tuple[int] = my_tuple * 3\n",
    "print(result)  # Output: (1, 2, 1, 2, 1, 2)\n"
   ]
  },
  {
   "cell_type": "markdown",
   "metadata": {},
   "source": [
    "4. Tuple Unpacking\n",
    "\n",
    "You can unpack the elements of a tuple into variables."
   ]
  },
  {
   "cell_type": "code",
   "execution_count": 8,
   "metadata": {},
   "outputs": [
    {
     "name": "stdout",
     "output_type": "stream",
     "text": [
      "1 2 3\n"
     ]
    }
   ],
   "source": [
    "my_tuple : tuple[int]= (1, 2, 3)\n",
    "a, b, c = my_tuple\n",
    "print(a, b, c)  # Output: 1 2 3\n"
   ]
  },
  {
   "cell_type": "markdown",
   "metadata": {},
   "source": [
    "## Immutability\n",
    "Since tuples are immutable, you cannot modify, add, or remove elements after the tuple is created. If you need a modifiable version, you should use a list instead.\n",
    "\n",
    "## Conclusion\n",
    "Tuples are a fundamental data type in Python, offering an immutable sequence of elements. They are useful for fixed collections of items, such as coordinates, dates, and other groupings that should not change. Understanding how to use tuples and their methods will help you write more robust and maintainable Python code."
   ]
  }
 ],
 "metadata": {
  "kernelspec": {
   "display_name": "virtualenv",
   "language": "python",
   "name": "python3"
  },
  "language_info": {
   "codemirror_mode": {
    "name": "ipython",
    "version": 3
   },
   "file_extension": ".py",
   "mimetype": "text/x-python",
   "name": "python",
   "nbconvert_exporter": "python",
   "pygments_lexer": "ipython3",
   "version": "3.12.0"
  }
 },
 "nbformat": 4,
 "nbformat_minor": 2
}
