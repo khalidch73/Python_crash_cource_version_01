{
 "cells": [
  {
   "cell_type": "markdown",
   "metadata": {},
   "source": [
    "# Set (set) datatype with methods and attributes in Python"
   ]
  },
  {
   "cell_type": "markdown",
   "metadata": {},
   "source": [
    "In Python, a set is an unordered collection of unique elements. Sets are mutable, which means you can add or remove items from them. However, sets do not allow duplicate elements, making them useful for tasks that require the collection of distinct items."
   ]
  },
  {
   "cell_type": "markdown",
   "metadata": {},
   "source": [
    "## Creating Sets\n",
    "Sets can be created in several ways:"
   ]
  },
  {
   "cell_type": "code",
   "execution_count": 2,
   "metadata": {},
   "outputs": [
    {
     "name": "stdout",
     "output_type": "stream",
     "text": [
      "set()\n",
      "{'apple', 'banana', 'cherry'}\n",
      "{1, 2, 3, 4, 5}\n"
     ]
    }
   ],
   "source": [
    "# Creating an empty set\n",
    "empty_set : set = set()\n",
    "print(empty_set)\n",
    "# Creating a set with some elements\n",
    "fruits : set = {\"apple\", \"banana\", \"cherry\"}\n",
    "print(fruits)\n",
    "# Creating a set from a list\n",
    "numbers : set = set([1, 2, 3, 4, 5])\n",
    "print(numbers)"
   ]
  },
  {
   "cell_type": "markdown",
   "metadata": {},
   "source": [
    "## Common Set Methods\n",
    "\n",
    "Here are some commonly used methods for sets:\n",
    "\n",
    "1. add(elem)\n",
    "\n",
    "Adds an element elem to the set."
   ]
  },
  {
   "cell_type": "code",
   "execution_count": 3,
   "metadata": {},
   "outputs": [
    {
     "name": "stdout",
     "output_type": "stream",
     "text": [
      "{'apple', 'banana', 'cherry'}\n"
     ]
    }
   ],
   "source": [
    "fruits : set = {\"apple\", \"banana\"}\n",
    "fruits.add(\"cherry\")\n",
    "print(fruits)  # Output: {'apple', 'banana', 'cherry'}\n"
   ]
  },
  {
   "cell_type": "markdown",
   "metadata": {},
   "source": [
    "2. remove(elem)\n",
    "\n",
    "Removes the element elem from the set. Raises a KeyError if the element is not found."
   ]
  },
  {
   "cell_type": "code",
   "execution_count": 4,
   "metadata": {},
   "outputs": [
    {
     "name": "stdout",
     "output_type": "stream",
     "text": [
      "{'apple', 'cherry'}\n"
     ]
    }
   ],
   "source": [
    "fruits: set = {\"apple\", \"banana\", \"cherry\"}\n",
    "fruits.remove(\"banana\")\n",
    "print(fruits)  # Output: {'apple', 'cherry'}\n"
   ]
  },
  {
   "cell_type": "markdown",
   "metadata": {},
   "source": [
    "3. discard(elem)\n",
    "\n",
    "Removes the element elem from the set if it is present. Does nothing if the element is not found."
   ]
  },
  {
   "cell_type": "code",
   "execution_count": 5,
   "metadata": {},
   "outputs": [
    {
     "name": "stdout",
     "output_type": "stream",
     "text": [
      "{'apple', 'cherry'}\n",
      "{'apple', 'cherry'}\n"
     ]
    }
   ],
   "source": [
    "fruits : set = {\"apple\", \"banana\", \"cherry\"}\n",
    "fruits.discard(\"banana\")\n",
    "print(fruits)  # Output: {'apple', 'cherry'}\n",
    "fruits.discard(\"banana\")  # No error, even though 'banana' is not in the set\n",
    "print(fruits)  # Output: {'apple', 'cherry'}\n",
    "\n"
   ]
  },
  {
   "cell_type": "markdown",
   "metadata": {},
   "source": [
    "4. pop()\n",
    "\n",
    "Removes and returns an arbitrary (randomly) element from the set. Raises a KeyError if the set is empty."
   ]
  },
  {
   "cell_type": "code",
   "execution_count": 8,
   "metadata": {},
   "outputs": [
    {
     "name": "stdout",
     "output_type": "stream",
     "text": [
      "apple\n",
      "{'banana', 'cherry'}\n",
      "banana\n",
      "{'cherry'}\n"
     ]
    }
   ],
   "source": [
    "fruits : set = {\"apple\", \"banana\", \"cherry\"}\n",
    "fruit = fruits.pop()\n",
    "print(fruit)  # Output: one of the elements, e.g., 'apple'\n",
    "print(fruits)  # Output: set without the popped element\n",
    "fruit = fruits.pop()\n",
    "print(fruit)  # Output: one of the elements, e.g., 'apple'\n",
    "print(fruits)  # Output: set without the popped element\n"
   ]
  },
  {
   "cell_type": "markdown",
   "metadata": {},
   "source": [
    "5. clear()\n",
    "\n",
    "Removes all elements from the set."
   ]
  },
  {
   "cell_type": "code",
   "execution_count": 9,
   "metadata": {},
   "outputs": [
    {
     "name": "stdout",
     "output_type": "stream",
     "text": [
      "set()\n"
     ]
    }
   ],
   "source": [
    "fruits : set = {\"apple\", \"banana\", \"cherry\"}\n",
    "fruits.clear()\n",
    "print(fruits)  # Output: set()\n"
   ]
  },
  {
   "cell_type": "markdown",
   "metadata": {},
   "source": [
    "6. copy()\n",
    "\n",
    "Returns a shallow copy of the set."
   ]
  },
  {
   "cell_type": "code",
   "execution_count": 10,
   "metadata": {},
   "outputs": [
    {
     "name": "stdout",
     "output_type": "stream",
     "text": [
      "{'apple', 'banana', 'cherry'}\n"
     ]
    }
   ],
   "source": [
    "fruits : set = {\"apple\", \"banana\", \"cherry\"}\n",
    "fruits_copy = fruits.copy()\n",
    "print(fruits_copy)  # Output: {'apple', 'banana', 'cherry'}\n"
   ]
  },
  {
   "cell_type": "markdown",
   "metadata": {},
   "source": [
    "7. union(*sets)\n",
    "\n",
    "Returns a new set with elements from the set and all provided sets (can also use the | operator)."
   ]
  },
  {
   "cell_type": "code",
   "execution_count": 11,
   "metadata": {},
   "outputs": [
    {
     "name": "stdout",
     "output_type": "stream",
     "text": [
      "{1, 2, 3, 4, 5}\n",
      "{1, 2, 3, 4, 5}\n"
     ]
    }
   ],
   "source": [
    "set1 : set = {1, 2, 3}\n",
    "set2 : set = {3, 4, 5}\n",
    "union_set : set  = set1.union(set2)\n",
    "print(union_set)  # Output: {1, 2, 3, 4, 5}\n",
    "# Using | operator\n",
    "union_set : set = set1 | set2\n",
    "print(union_set)  # Output: {1, 2, 3, 4, 5}\n"
   ]
  },
  {
   "cell_type": "markdown",
   "metadata": {},
   "source": [
    "8. intersection(*sets)\n",
    "\n",
    "Returns a new set with elements common to the set and all provided sets (can also use the & operator)."
   ]
  },
  {
   "cell_type": "code",
   "execution_count": 12,
   "metadata": {},
   "outputs": [
    {
     "name": "stdout",
     "output_type": "stream",
     "text": [
      "{3}\n",
      "{3}\n"
     ]
    }
   ],
   "source": [
    "set1 : set = {1, 2, 3}\n",
    "set2 : set = {3, 4, 5}\n",
    "intersection_set = set1.intersection(set2)\n",
    "print(intersection_set)  # Output: {3}\n",
    "# Using & operator\n",
    "intersection_set : set = set1 & set2\n",
    "print(intersection_set)  # Output: {3}\n"
   ]
  },
  {
   "cell_type": "markdown",
   "metadata": {},
   "source": [
    "9. difference(*sets)\n",
    "\n",
    "Returns a new set with elements in the set that are not in the provided sets (can also use the - operator)."
   ]
  },
  {
   "cell_type": "code",
   "execution_count": 14,
   "metadata": {},
   "outputs": [
    {
     "name": "stdout",
     "output_type": "stream",
     "text": [
      "{1, 2}\n",
      "{4, 5}\n"
     ]
    }
   ],
   "source": [
    "set1 : set = {1, 2, 3}\n",
    "set2 : set = {3, 4, 5}\n",
    "difference_set : set = set1.difference(set2)\n",
    "print(difference_set)  # Output: {1, 2}\n",
    "# Using - operator\n",
    "difference_set : set = set2 - set1\n",
    "print(difference_set)  # Output: {4, 5}\n"
   ]
  },
  {
   "cell_type": "markdown",
   "metadata": {},
   "source": [
    "10. symmetric_difference(other_set)\n",
    "\n",
    "Returns a new set with elements in either the set or other_set but not in both (can also use the ^ operator)."
   ]
  },
  {
   "cell_type": "code",
   "execution_count": 15,
   "metadata": {},
   "outputs": [
    {
     "name": "stdout",
     "output_type": "stream",
     "text": [
      "{1, 2, 4, 5}\n",
      "{1, 2, 4, 5}\n"
     ]
    }
   ],
   "source": [
    "set1 : set = {1, 2, 3}\n",
    "set2 : set = {3, 4, 5}\n",
    "sym_diff_set : set  = set1.symmetric_difference(set2)\n",
    "print(sym_diff_set)  # Output: {1, 2, 4, 5}\n",
    "# Using ^ operator\n",
    "sym_diff_set : set = set1 ^ set2\n",
    "print(sym_diff_set)  # Output: {1, 2, 4, 5}\n"
   ]
  },
  {
   "cell_type": "markdown",
   "metadata": {},
   "source": [
    "## Set Attributes\n",
    "\n",
    "Sets do not have attributes like lists or dictionaries, but they support several built-in functions and operators:\n"
   ]
  },
  {
   "cell_type": "markdown",
   "metadata": {},
   "source": [
    "1. len(set): \n",
    "\n",
    "Returns the number of elements in the set."
   ]
  },
  {
   "cell_type": "code",
   "execution_count": 16,
   "metadata": {},
   "outputs": [
    {
     "name": "stdout",
     "output_type": "stream",
     "text": [
      "3\n"
     ]
    }
   ],
   "source": [
    "set1 : set = {1, 2, 3}\n",
    "print(len(set1))"
   ]
  },
  {
   "cell_type": "markdown",
   "metadata": {},
   "source": [
    "2. in: \n",
    "\n",
    "Checks if an element is in the set."
   ]
  },
  {
   "cell_type": "code",
   "execution_count": 17,
   "metadata": {},
   "outputs": [
    {
     "name": "stdout",
     "output_type": "stream",
     "text": [
      "True\n"
     ]
    }
   ],
   "source": [
    "set1 : set = {1, 2, 3}\n",
    "print(1 in set1)"
   ]
  },
  {
   "cell_type": "markdown",
   "metadata": {},
   "source": [
    "3. not in: \n",
    "\n",
    "Checks if an element is not in the set."
   ]
  },
  {
   "cell_type": "code",
   "execution_count": 18,
   "metadata": {},
   "outputs": [
    {
     "name": "stdout",
     "output_type": "stream",
     "text": [
      "True\n"
     ]
    }
   ],
   "source": [
    "set1 : set = {1, 2, 3}\n",
    "print(4 not in set1)"
   ]
  },
  {
   "cell_type": "markdown",
   "metadata": {},
   "source": [
    "## Conclusion\n",
    "\n",
    "Sets are a useful data structure in Python for storing unique elements and performing various set operations such as union, intersection, and difference. Understanding the methods and attributes of sets will help you use them effectively in your Python programs."
   ]
  }
 ],
 "metadata": {
  "kernelspec": {
   "display_name": "virtualenv",
   "language": "python",
   "name": "python3"
  },
  "language_info": {
   "codemirror_mode": {
    "name": "ipython",
    "version": 3
   },
   "file_extension": ".py",
   "mimetype": "text/x-python",
   "name": "python",
   "nbconvert_exporter": "python",
   "pygments_lexer": "ipython3",
   "version": "3.12.0"
  }
 },
 "nbformat": 4,
 "nbformat_minor": 2
}
