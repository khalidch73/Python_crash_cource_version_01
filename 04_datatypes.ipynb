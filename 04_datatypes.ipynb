{
 "cells": [
  {
   "cell_type": "markdown",
   "metadata": {},
   "source": [
    "# Python Data Types\n",
    "In Python, data types are the classification of data items. Python has several built-in data types that allow you to work with various kinds of data. Understanding these data types is crucial as it helps you to perform the right operations on the right kind of data. Here's an overview of the main data types in Python:"
   ]
  },
  {
   "cell_type": "markdown",
   "metadata": {},
   "source": [
    "## 1. Numeric Types\n"
   ]
  },
  {
   "cell_type": "markdown",
   "metadata": {},
   "source": [
    "* Integer (int)\n",
    "\n",
    "Whole numbers, positive or negative, without decimals.\n",
    "\n",
    "Example: 5, -3, 100"
   ]
  },
  {
   "cell_type": "code",
   "execution_count": 1,
   "metadata": {},
   "outputs": [],
   "source": [
    "age : int = 25\n",
    "year : int = 2024"
   ]
  },
  {
   "cell_type": "markdown",
   "metadata": {},
   "source": [
    "* Floating-Point Number (float)\n",
    "\n",
    "Numbers with a decimal point.\n",
    "\n",
    "Example: 5.0, -3.14, 0.001"
   ]
  },
  {
   "cell_type": "code",
   "execution_count": 2,
   "metadata": {},
   "outputs": [],
   "source": [
    "price : float = 19.99\n",
    "temperature : float = -5.4\n"
   ]
  },
  {
   "cell_type": "markdown",
   "metadata": {},
   "source": [
    "* Complex Number (complex)\n",
    "\n",
    "Numbers with a real and an imaginary part.\n",
    "\n",
    "Example: 1 + 2j, 3 - 4j"
   ]
  },
  {
   "cell_type": "code",
   "execution_count": null,
   "metadata": {},
   "outputs": [],
   "source": [
    "complex_num : complex = 2 + 3j\n"
   ]
  },
  {
   "cell_type": "markdown",
   "metadata": {},
   "source": [
    "## 2. Sequence Types"
   ]
  },
  {
   "cell_type": "markdown",
   "metadata": {},
   "source": [
    "* String (str)\n",
    "\n",
    "A sequence of characters enclosed in single quotes, double quotes, or triple quotes.\n",
    "\n",
    "Example: 'single quoted string', \"double quoted string\", \"\"\"This is Triple quoted string\"\"\""
   ]
  },
  {
   "cell_type": "code",
   "execution_count": 3,
   "metadata": {},
   "outputs": [
    {
     "name": "stdout",
     "output_type": "stream",
     "text": [
      "Hello_world Hello_world Hello_world\n"
     ]
    }
   ],
   "source": [
    "single_quoted_string : str = 'Hello_world'\n",
    "double_quoted_string : str = \"Hello_world\"\n",
    "triple_quoted_string : str = \"\"\"Hello_world\"\"\"\n",
    "print(single_quoted_string, double_quoted_string, triple_quoted_string) # you can print all variable in a single print function by , seprated\n",
    "\n"
   ]
  },
  {
   "cell_type": "markdown",
   "metadata": {},
   "source": [
    "* List (list)\n",
    "\n",
    "An ordered, mutable collection of items. Items can be of different types.\n",
    "\n",
    "Example: [1, 2, 3], [\"apple\", \"banana\", \"cherry\"]"
   ]
  },
  {
   "cell_type": "code",
   "execution_count": 4,
   "metadata": {},
   "outputs": [
    {
     "name": "stdout",
     "output_type": "stream",
     "text": [
      "['mobile', 'cars', 123, True]\n"
     ]
    }
   ],
   "source": [
    "fruits : list = [\"apple\", \"banana\", \"cherry\"]\n",
    "numbers : list = [1, 2, 3, 4, 5]\n",
    "itmes : list = [\"mobile\", \"cars\", 123, True]\n",
    "print(itmes)"
   ]
  },
  {
   "cell_type": "markdown",
   "metadata": {},
   "source": [
    "* Tuple (tuple)\n",
    "\n",
    "An ordered, immutable collection of items. Items can be of different types.\n",
    "\n",
    "Example: (1, 2, 3), (\"apple\", \"banana\", \"cherry\")"
   ]
  },
  {
   "cell_type": "code",
   "execution_count": 9,
   "metadata": {},
   "outputs": [
    {
     "name": "stdout",
     "output_type": "stream",
     "text": [
      "('red', 'green', 'blue', 'yellow')\n"
     ]
    }
   ],
   "source": [
    "coordinates : tuple= (10.0, 20.0)\n",
    "colors : tuple = (\"red\", \"green\", \"blue\", \"yellow\")\n",
    "print(colors)"
   ]
  },
  {
   "cell_type": "markdown",
   "metadata": {},
   "source": [
    "* Range (range)\n",
    "\n",
    "Represents an immutable sequence of numbers, commonly used for looping a specific number of times.\n",
    "\n",
    "Example: range(5), range(1, 10, 2)"
   ]
  },
  {
   "cell_type": "code",
   "execution_count": 15,
   "metadata": {},
   "outputs": [
    {
     "name": "stdout",
     "output_type": "stream",
     "text": [
      "range(0, 5)\n",
      "range(1, 10)\n"
     ]
    }
   ],
   "source": [
    "numbers : range= range(5)\n",
    "print(numbers)\n",
    "number01 : range = range(1, 10)\n",
    "print(number01)\n",
    " "
   ]
  },
  {
   "cell_type": "markdown",
   "metadata": {},
   "source": [
    "# 2. Mapping Type"
   ]
  },
  {
   "cell_type": "markdown",
   "metadata": {},
   "source": [
    "* Dictionary (dict)\n",
    "\n",
    "An unordered collection of key-value pairs. Keys are unique and immutable.\n",
    "\n",
    "Example: {\"name\": \"Alice\", \"age\": 25}, {1: \"one\", 2: \"two\"}"
   ]
  },
  {
   "cell_type": "code",
   "execution_count": 18,
   "metadata": {},
   "outputs": [
    {
     "name": "stdout",
     "output_type": "stream",
     "text": [
      "{'name': 'Alice', 'age': 25}\n",
      "{'id_1': 1, 'id_2': 2, 'id_3': 3}\n"
     ]
    }
   ],
   "source": [
    "person : dict = {\"name\": \"Alice\", \"age\": 25}\n",
    "phone_book : dict = {\"John\": \"123-4567\", \"Jane\": \"987-6543\"}\n",
    "order : dict = {\"id_1\":1, \"id_2\": 2, \"id_3\" : 3} # key is alwas unique\n",
    "print(person)\n",
    "print(order)\n"
   ]
  },
  {
   "cell_type": "markdown",
   "metadata": {},
   "source": [
    "# 4. Set Types"
   ]
  },
  {
   "cell_type": "markdown",
   "metadata": {},
   "source": [
    "* Set (set)\n",
    "\n",
    "An unordered collection of unique items.\n",
    "\n",
    "Example: {1, 2, 3}, {\"apple\", \"banana\", \"cherry\"}"
   ]
  },
  {
   "cell_type": "code",
   "execution_count": 23,
   "metadata": {},
   "outputs": [
    {
     "name": "stdout",
     "output_type": "stream",
     "text": [
      "{1, 2, 3, 4, 5, 'banana', 'cherry'}\n"
     ]
    }
   ],
   "source": [
    "unique_numbers : set = {1, 2, 3, 4, 5, \"banana\", \"cherry\"}\n",
    "fruits : set = {\"apple\", \"banana\", \"cherry\"}\n",
    "print(unique_numbers)\n"
   ]
  },
  {
   "cell_type": "markdown",
   "metadata": {},
   "source": [
    "* Frozen Set (frozenset)\n",
    "\n",
    "An immutable version of a set.\n",
    "\n",
    "Example: frozenset([1, 2, 3])"
   ]
  },
  {
   "cell_type": "code",
   "execution_count": 26,
   "metadata": {},
   "outputs": [
    {
     "name": "stdout",
     "output_type": "stream",
     "text": [
      "frozenset({1, 2, 3, 4, 5})\n"
     ]
    }
   ],
   "source": [
    "frozen_numbers = frozenset([1, 2, 3, 4, 5])\n",
    "print(frozen_numbers)"
   ]
  },
  {
   "cell_type": "markdown",
   "metadata": {},
   "source": [
    "# 5. Boolean Type\n"
   ]
  },
  {
   "cell_type": "markdown",
   "metadata": {},
   "source": [
    "* Boolean (bool)\n",
    "\n",
    "Represents one of two values: True or False.\n",
    "\n",
    "Example: True, False"
   ]
  },
  {
   "cell_type": "code",
   "execution_count": 28,
   "metadata": {},
   "outputs": [
    {
     "name": "stdout",
     "output_type": "stream",
     "text": [
      "True\n",
      "False\n"
     ]
    }
   ],
   "source": [
    "is_active = True\n",
    "is_admin = False\n",
    "print(is_active)\n",
    "print(is_admin)"
   ]
  },
  {
   "cell_type": "markdown",
   "metadata": {},
   "source": [
    "## Type Conversion\n",
    "You can convert between different data types using built-in functions:"
   ]
  },
  {
   "cell_type": "code",
   "execution_count": 29,
   "metadata": {},
   "outputs": [
    {
     "name": "stdout",
     "output_type": "stream",
     "text": [
      "5 5.0 3.14 3 10 10 123 123 hello ['h', 'e', 'l', 'l', 'o']\n"
     ]
    }
   ],
   "source": [
    "# Convert integer to float\n",
    "a : int = 5\n",
    "b = float(a)  # 5.0\n",
    "\n",
    "# Convert float to integer\n",
    "c : float = 3.14\n",
    "d = int(c)  # 3\n",
    "\n",
    "# Convert integer to string\n",
    "e : int = 10\n",
    "f = str(e)  # \"10\"\n",
    "\n",
    "# Convert string to integer\n",
    "g : str = \"123\"\n",
    "h = int(g)  # 123\n",
    "\n",
    "# Convert string to list\n",
    "i : str= \"hello\"\n",
    "j = list(i)  # ['h', 'e', 'l', 'l', 'o']\n",
    "print(a,b,c,d,e,f,g,h,i,j)"
   ]
  },
  {
   "cell_type": "markdown",
   "metadata": {},
   "source": [
    "## Conclusion\n",
    "Understanding Python's data types is crucial for effective programming. Each data type serves a specific purpose and knowing when and how to use them will help you write better and more efficient code. Practice using these data types to become familiar with their behavior and functionalities.\n",
    "\n",
    "\n",
    "\n",
    "\n",
    "\n",
    "\n",
    "\n"
   ]
  }
 ],
 "metadata": {
  "kernelspec": {
   "display_name": "virtualenv",
   "language": "python",
   "name": "python3"
  },
  "language_info": {
   "codemirror_mode": {
    "name": "ipython",
    "version": 3
   },
   "file_extension": ".py",
   "mimetype": "text/x-python",
   "name": "python",
   "nbconvert_exporter": "python",
   "pygments_lexer": "ipython3",
   "version": "3.12.0"
  }
 },
 "nbformat": 4,
 "nbformat_minor": 2
}
