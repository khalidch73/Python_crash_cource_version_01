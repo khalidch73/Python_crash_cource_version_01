{
 "cells": [
  {
   "cell_type": "markdown",
   "metadata": {},
   "source": [
    "# List (list) datatype with methods and attributes in Python."
   ]
  },
  {
   "cell_type": "markdown",
   "metadata": {},
   "source": [
    "Lists are used to store multiple items in a single variable.\n",
    "They are defined by enclosing comma-separated values within square brackets [ ].\n",
    "List items are ordered, changeable, and allow duplicate values.\n",
    "List items are indexed, the first item has index [0], the second item has index [1] etc.\n",
    "\n",
    "* Ordered\n",
    "When we say that lists are ordered, it means that the items have a defined order, and that order will not change.\n",
    "If you add new items to a list, the new items will be placed at the end of the list.\n",
    "* Changeable\n",
    "The list is changeable, meaning that we can change, add, and remove items in a list after it has been created.\n",
    "* Allow Duplicates\n",
    "Since lists are indexed, lists can have items with the same value:\n",
    "Example\n",
    "Lists allow duplicate values:\n"
   ]
  },
  {
   "cell_type": "markdown",
   "metadata": {},
   "source": [
    "# List Items - Data Types\n",
    "List items can be of any data type:\n",
    "Example\n",
    "String, int and boolean data types:"
   ]
  },
  {
   "cell_type": "code",
   "execution_count": null,
   "metadata": {},
   "outputs": [],
   "source": [
    "list1 = [\"apple\", \"banana\", \"cherry\"]\n",
    "list2 = [1, 5, 7, 9, 3]\n",
    "list3 = [True, False, False]\n",
    "print(list1, list2, list3)"
   ]
  },
  {
   "cell_type": "markdown",
   "metadata": {},
   "source": [
    "# A list can contain different data types:\n",
    "Example\n",
    "A list with strings, integers and boolean values:"
   ]
  },
  {
   "cell_type": "code",
   "execution_count": 26,
   "metadata": {},
   "outputs": [
    {
     "name": "stdout",
     "output_type": "stream",
     "text": [
      "['abc', 34, True, 40, 'male']\n",
      "['abc', '34', 'True', '40', 'male']\n"
     ]
    }
   ],
   "source": [
    "list1 : list[str] = [\"abc\", 34, True, 40, \"male\"]\n",
    "print(list1)\n",
    "list1 : list[str] = [\"abc\", \"34\", \"True\", \"40\", \"male\"]\n",
    "print(list1)\n"
   ]
  },
  {
   "cell_type": "markdown",
   "metadata": {},
   "source": [
    "Here's an overview of some commonly used methods and attributes of lists:\n",
    "\n",
    "## Methods:"
   ]
  },
  {
   "cell_type": "markdown",
   "metadata": {},
   "source": [
    "1. append(x): \n",
    "\n",
    "Adds an item x to the end of the list x here any number, string, item, or value ."
   ]
  },
  {
   "cell_type": "code",
   "execution_count": 2,
   "metadata": {},
   "outputs": [
    {
     "name": "stdout",
     "output_type": "stream",
     "text": [
      "[1, 2, 3, 4]\n",
      "[1, 2, 3, 4, 'ALI']\n"
     ]
    }
   ],
   "source": [
    "my_list : list = [1, 2, 3]\n",
    "my_list.append(4)\n",
    "print(my_list)  # Output: [1, 2, 3, 4]\n",
    "my_list.append(\"ALI\")\n",
    "print(my_list)\n"
   ]
  },
  {
   "cell_type": "markdown",
   "metadata": {},
   "source": [
    "2. extend(iterable): \n",
    "\n",
    "Extends the list by appending elements from the iterable.\n",
    "(iterable is anything that you can loop over)"
   ]
  },
  {
   "cell_type": "code",
   "execution_count": 3,
   "metadata": {},
   "outputs": [
    {
     "name": "stdout",
     "output_type": "stream",
     "text": [
      "[1, 2, 3, 4, 5, 6]\n"
     ]
    }
   ],
   "source": [
    "my_list : list = [1, 2, 3]\n",
    "my_list.extend([4, 5, 6])\n",
    "print(my_list)  # Output: [1, 2, 3, 4, 5, 6]\n"
   ]
  },
  {
   "cell_type": "markdown",
   "metadata": {},
   "source": [
    "2. a Add Any Iterable\n",
    "\n",
    "The extend() method does not have to append lists, you can add any iterable object (tuples, sets, dictionaries etc.).\n",
    "\n",
    "Example\n",
    "Add elements of a tuple to a list:\n",
    "\n"
   ]
  },
  {
   "cell_type": "code",
   "execution_count": 37,
   "metadata": {},
   "outputs": [
    {
     "name": "stdout",
     "output_type": "stream",
     "text": [
      "['apple', 'banana', 'cherry', 'kiwi', 'orange']\n"
     ]
    }
   ],
   "source": [
    "thislist : list = [\"apple\", \"banana\", \"cherry\"]\n",
    "thistuple : tuple = (\"kiwi\", \"orange\")\n",
    "thislist.extend(thistuple)\n",
    "print(thislist)"
   ]
  },
  {
   "cell_type": "markdown",
   "metadata": {},
   "source": [
    "3. insert(i, x): \n",
    "\n",
    "Inserts an item x at a specified position i."
   ]
  },
  {
   "cell_type": "code",
   "execution_count": 4,
   "metadata": {},
   "outputs": [
    {
     "name": "stdout",
     "output_type": "stream",
     "text": [
      "[1, 4, 2, 3]\n"
     ]
    }
   ],
   "source": [
    "my_list : list = [1, 2, 3]\n",
    "my_list.insert(1, 4)\n",
    "print(my_list)  # Output: [1, 4, 2, 3]\n"
   ]
  },
  {
   "cell_type": "markdown",
   "metadata": {},
   "source": [
    "4. remove(x): \n",
    "\n",
    "Removes the first occurrence of item x from the list."
   ]
  },
  {
   "cell_type": "code",
   "execution_count": 5,
   "metadata": {},
   "outputs": [
    {
     "name": "stdout",
     "output_type": "stream",
     "text": [
      "[1, 3, 2]\n"
     ]
    }
   ],
   "source": [
    "my_list : list = [1, 2, 3, 2]\n",
    "my_list.remove(2)\n",
    "print(my_list)  # Output: [1, 3, 2]\n"
   ]
  },
  {
   "cell_type": "markdown",
   "metadata": {},
   "source": [
    "5. pop(i): \n",
    "\n",
    "Removes and returns the item at index i. If no index is specified, removes and returns the last item."
   ]
  },
  {
   "cell_type": "code",
   "execution_count": 6,
   "metadata": {},
   "outputs": [
    {
     "name": "stdout",
     "output_type": "stream",
     "text": [
      "[1, 2, 3]\n",
      "[1, 2]\n",
      "[1]\n"
     ]
    }
   ],
   "source": [
    "my_list : list = [1, 2, 3]\n",
    "print(my_list)      # Output: [1, 2, 3]\n",
    "popped_item = my_list.pop()\n",
    "print(my_list)      # Output: [1, 2]\n",
    "popped_item = my_list.pop(1)\n",
    "print(my_list)      # Output: [1, 2]\n",
    "\n",
    "\n"
   ]
  },
  {
   "cell_type": "markdown",
   "metadata": {},
   "source": [
    "6. clear(): \n",
    "\n",
    "Removes all items from the list."
   ]
  },
  {
   "cell_type": "code",
   "execution_count": 13,
   "metadata": {},
   "outputs": [
    {
     "name": "stdout",
     "output_type": "stream",
     "text": [
      "[1, 2, 3]\n"
     ]
    }
   ],
   "source": [
    "my_list : list = [1, 2, 3]\n",
    "print(my_list)\n",
    "# my_list.remove()\n",
    "# print(my_list)\n",
    "# # when you remove the list a typeerror will show its mean your list is removed\n",
    "# TypeError: list.remove() takes exactly one argument (0 given)\n"
   ]
  },
  {
   "cell_type": "markdown",
   "metadata": {},
   "source": [
    "7. index(x[, start[, end]]): \n",
    "\n",
    "Returns the index of the first occurrence of item x. Optionally, a start and end index can be provided."
   ]
  },
  {
   "cell_type": "code",
   "execution_count": 15,
   "metadata": {},
   "outputs": [
    {
     "name": "stdout",
     "output_type": "stream",
     "text": [
      "1\n"
     ]
    }
   ],
   "source": [
    "my_list : list = [1, 2, 3, 2]\n",
    "print(my_list.index(2))  # Output: 1\n"
   ]
  },
  {
   "cell_type": "markdown",
   "metadata": {},
   "source": [
    "8. count(x): \n",
    "\n",
    "Returns the number of occurrences of item x in the list."
   ]
  },
  {
   "cell_type": "code",
   "execution_count": 16,
   "metadata": {},
   "outputs": [
    {
     "name": "stdout",
     "output_type": "stream",
     "text": [
      "2\n"
     ]
    }
   ],
   "source": [
    "my_list : list = [1, 2, 3, 2]\n",
    "print(my_list.count(2))  # Output: 2\n"
   ]
  },
  {
   "cell_type": "markdown",
   "metadata": {},
   "source": [
    "9. sort(): \n",
    "\n",
    "Sorts the items of the list in place."
   ]
  },
  {
   "cell_type": "code",
   "execution_count": 18,
   "metadata": {},
   "outputs": [
    {
     "name": "stdout",
     "output_type": "stream",
     "text": [
      "[1, 2, 3]\n"
     ]
    }
   ],
   "source": [
    "my_list : list = [3, 1, 2]\n",
    "my_list.sort()\n",
    "print(my_list)  # Output: [1, 2, 3]\n",
    "# permanently sort \n",
    "thislist = [\"orange\", \"mango\", \"kiwi\", \"pineapple\", \"banana\"]\n",
    "thislist.sort()\n",
    "print(thislist)\n",
    "# Sort the list descending:\n",
    "thislist = [\"orange\", \"mango\", \"kiwi\", \"pineapple\", \"banana\"]\n",
    "thislist.sort(reverse = True)\n",
    "print(thislist)\n",
    "# Sort the list numerically:\n",
    "thislist = [100, 50, 65, 82, 23]\n",
    "thislist.sort()\n",
    "print(thislist)\n",
    "# Sort the list descending:\n",
    "thislist = [100, 50, 65, 82, 23]\n",
    "thislist.sort(reverse = True)\n",
    "print(thislist)\n"
   ]
  },
  {
   "cell_type": "markdown",
   "metadata": {},
   "source": [
    "10. reverse(): \n",
    "\n",
    "Reverses the elements of the list in place."
   ]
  },
  {
   "cell_type": "code",
   "execution_count": 19,
   "metadata": {},
   "outputs": [
    {
     "name": "stdout",
     "output_type": "stream",
     "text": [
      "[3, 2, 1]\n"
     ]
    }
   ],
   "source": [
    "my_list : list = [1, 2, 3]\n",
    "my_list.reverse()\n",
    "print(my_list)  # Output: [3, 2, 1]\n"
   ]
  },
  {
   "cell_type": "markdown",
   "metadata": {},
   "source": [
    "11. copy(): \n",
    "\n",
    "Returns a shallow copy of the list."
   ]
  },
  {
   "cell_type": "code",
   "execution_count": 20,
   "metadata": {},
   "outputs": [
    {
     "name": "stdout",
     "output_type": "stream",
     "text": [
      "[1, 2, 3]\n",
      "[1, 2, 3]\n"
     ]
    }
   ],
   "source": [
    "my_list : list = [1, 2, 3]\n",
    "print(my_list)\n",
    "copied_list = my_list.copy()\n",
    "print(copied_list)  # Output: [1, 2, 3]\n"
   ]
  },
  {
   "cell_type": "markdown",
   "metadata": {},
   "source": [
    "## Attributes:"
   ]
  },
  {
   "cell_type": "markdown",
   "metadata": {},
   "source": [
    "1. len(): \n",
    "\n",
    "Returns the number of items in the list."
   ]
  },
  {
   "cell_type": "code",
   "execution_count": 22,
   "metadata": {},
   "outputs": [
    {
     "name": "stdout",
     "output_type": "stream",
     "text": [
      "5\n"
     ]
    }
   ],
   "source": [
    "my_list : list = [1, 2, 3, 4, 5]\n",
    "print(len(my_list))  # Output: 3\n"
   ]
  },
  {
   "cell_type": "markdown",
   "metadata": {},
   "source": [
    "2. Indexing and Slicing: \n",
    "\n",
    "Lists support indexing and slicing to access elements or a subset of elements."
   ]
  },
  {
   "cell_type": "code",
   "execution_count": 23,
   "metadata": {},
   "outputs": [
    {
     "name": "stdout",
     "output_type": "stream",
     "text": [
      "1\n",
      "5\n",
      "[2, 3, 4]\n"
     ]
    }
   ],
   "source": [
    "my_list : list = [1, 2, 3, 4, 5]\n",
    "print(my_list[0])     # Output: 1\n",
    "print(my_list[-1])    # Output: 5\n",
    "print(my_list[1:4])   # Output: [2, 3, 4] slicing\n"
   ]
  },
  {
   "cell_type": "markdown",
   "metadata": {},
   "source": [
    "3. Mutability: \n",
    "\n",
    "Lists are mutable, meaning you can change the elements of a list after it has been created."
   ]
  },
  {
   "cell_type": "code",
   "execution_count": 24,
   "metadata": {},
   "outputs": [
    {
     "name": "stdout",
     "output_type": "stream",
     "text": [
      "[0, 2, 3]\n"
     ]
    }
   ],
   "source": [
    "my_list : list = [1, 2, 3]\n",
    "my_list[0] = 0\n",
    "print(my_list)  # Output: [0, 2, 3]\n"
   ]
  },
  {
   "cell_type": "markdown",
   "metadata": {},
   "source": [
    "4. Check datatype :type() \n",
    "\n",
    "From Python's perspective, lists are defined as objects with the data type 'list':\n",
    "<class 'list'>\n",
    "\n",
    "Example\n",
    "\n",
    "What is the data type of a list?\n"
   ]
  },
  {
   "cell_type": "code",
   "execution_count": 27,
   "metadata": {},
   "outputs": [
    {
     "name": "stdout",
     "output_type": "stream",
     "text": [
      "<class 'list'>\n"
     ]
    }
   ],
   "source": [
    "my_list = [\"apple\", \"banana\", \"cherry\"]\n",
    "print(type(my_list))"
   ]
  },
  {
   "cell_type": "markdown",
   "metadata": {},
   "source": [
    "## The list() Constructor\n",
    "The list() constructor in Python is used to create a new list object. It can take an iterable as an argument, such as a string, tuple, range, or another list, and convert it into a new list. If no argument is provided, it returns an empty list.\n",
    "\n",
    "Here are some examples of using the list() constructor:"
   ]
  },
  {
   "cell_type": "markdown",
   "metadata": {},
   "source": [
    "Example 1: Creating an Empty List"
   ]
  },
  {
   "cell_type": "code",
   "execution_count": 30,
   "metadata": {},
   "outputs": [
    {
     "name": "stdout",
     "output_type": "stream",
     "text": [
      "[]\n"
     ]
    }
   ],
   "source": [
    "empty_list : list = list()\n",
    "print(empty_list)  # Output: []\n"
   ]
  },
  {
   "cell_type": "markdown",
   "metadata": {},
   "source": [
    "Example 2: Converting a String to a List\n"
   ]
  },
  {
   "cell_type": "code",
   "execution_count": 29,
   "metadata": {},
   "outputs": [
    {
     "name": "stdout",
     "output_type": "stream",
     "text": [
      "['h', 'e', 'l', 'l', 'o']\n"
     ]
    }
   ],
   "source": [
    "text : str = \"hello\"\n",
    "char_list : list = list(text)\n",
    "print(char_list)  # Output: ['h', 'e', 'l', 'l', 'o']\n"
   ]
  },
  {
   "cell_type": "markdown",
   "metadata": {},
   "source": [
    "Example 3: Converting a Tuple to a List"
   ]
  },
  {
   "cell_type": "code",
   "execution_count": 31,
   "metadata": {},
   "outputs": [
    {
     "name": "stdout",
     "output_type": "stream",
     "text": [
      "[1, 2, 3]\n"
     ]
    }
   ],
   "source": [
    "tuple_data : tuple = (1, 2, 3)\n",
    "converted_list : list = list(tuple_data)\n",
    "print(converted_list)  # Output: [1, 2, 3]\n"
   ]
  },
  {
   "cell_type": "markdown",
   "metadata": {},
   "source": [
    "Example 4: Converting a Range to a List"
   ]
  },
  {
   "cell_type": "code",
   "execution_count": 35,
   "metadata": {},
   "outputs": [
    {
     "name": "stdout",
     "output_type": "stream",
     "text": [
      "[1, 2, 3, 4, 5, 6, 7, 8, 9, 10]\n"
     ]
    }
   ],
   "source": [
    "range_data : range = range(1, 10+1)\n",
    "range_list : list = list(range_data)\n",
    "print(range_list)  # Output: [1, 2, 3, 4, 5, 6, 7, 8, 9, 10]\n"
   ]
  },
  {
   "cell_type": "code",
   "execution_count": 36,
   "metadata": {},
   "outputs": [
    {
     "name": "stdout",
     "output_type": "stream",
     "text": [
      "[1, 2, 3]\n"
     ]
    }
   ],
   "source": [
    "existing_list : list = [1, 2, 3]\n",
    "same_list : list = list(existing_list)\n",
    "print(same_list)  # Output: [1, 2, 3]\n"
   ]
  },
  {
   "cell_type": "markdown",
   "metadata": {},
   "source": [
    "Example 5: Converting a List to a List (No Change)"
   ]
  },
  {
   "cell_type": "markdown",
   "metadata": {},
   "source": [
    "## Conclusion:\n",
    "\n",
    "Lists are a fundamental data structure in Python, offering a wide range of methods and attributes for manipulation and analysis. Understanding how to use these methods and attributes effectively will enable you to work with lists efficiently in your Python programs."
   ]
  }
 ],
 "metadata": {
  "kernelspec": {
   "display_name": "virtualenv",
   "language": "python",
   "name": "python3"
  },
  "language_info": {
   "codemirror_mode": {
    "name": "ipython",
    "version": 3
   },
   "file_extension": ".py",
   "mimetype": "text/x-python",
   "name": "python",
   "nbconvert_exporter": "python",
   "pygments_lexer": "ipython3",
   "version": "3.12.0"
  }
 },
 "nbformat": 4,
 "nbformat_minor": 2
}
