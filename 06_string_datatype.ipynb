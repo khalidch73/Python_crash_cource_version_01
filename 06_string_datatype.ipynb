{
 "cells": [
  {
   "cell_type": "markdown",
   "metadata": {},
   "source": [
    "# String (str) datatype with methods and attributes in Python."
   ]
  },
  {
   "cell_type": "markdown",
   "metadata": {},
   "source": [
    "In Python, a string is a sequence of characters enclosed within single quotes (' '), double quotes (\" \"), or triple quotes (''' ''' or \"\"\" \"\"\"). Strings are one of the most commonly used data types in Python, and they come with a variety of built-in methods that make it easy to manipulate and analyze text."
   ]
  },
  {
   "cell_type": "code",
   "execution_count": null,
   "metadata": {},
   "outputs": [],
   "source": [
    "# Using single quotes\n",
    "string1 : str = 'Hello, World!'\n",
    "\n",
    "# Using double quotes\n",
    "string2 : str = \"Hello, World!\"\n",
    "\n",
    "# Using triple quotes for multi-line strings\n",
    "string3 : str = '''Hello,\n",
    "World!'''\n",
    "\n",
    "string4 : str = \"\"\"Hello,\n",
    "World!\"\"\"\n"
   ]
  },
  {
   "cell_type": "markdown",
   "metadata": {},
   "source": [
    "## String Methods\n",
    "Python provides a rich set of string methods. Here are some commonly used ones:"
   ]
  },
  {
   "cell_type": "markdown",
   "metadata": {},
   "source": [
    "1. len()\n",
    "\n",
    "Returns the length of the string."
   ]
  },
  {
   "cell_type": "code",
   "execution_count": 1,
   "metadata": {},
   "outputs": [
    {
     "name": "stdout",
     "output_type": "stream",
     "text": [
      "5\n"
     ]
    }
   ],
   "source": [
    "string : str = \"Hello\"\n",
    "print(len(string))  # Output: 5\n"
   ]
  },
  {
   "cell_type": "markdown",
   "metadata": {},
   "source": [
    "2. upper()\n",
    "\n",
    "Converts all characters in the string to uppercase."
   ]
  },
  {
   "cell_type": "code",
   "execution_count": 2,
   "metadata": {},
   "outputs": [
    {
     "name": "stdout",
     "output_type": "stream",
     "text": [
      "HELLO\n"
     ]
    }
   ],
   "source": [
    "string : str = \"hello\"\n",
    "print(string.upper())  # Output: \"HELLO\"\n"
   ]
  },
  {
   "cell_type": "markdown",
   "metadata": {},
   "source": [
    "3. lower()\n",
    "\n",
    "Converts all characters in the string to lowercase."
   ]
  },
  {
   "cell_type": "code",
   "execution_count": 26,
   "metadata": {},
   "outputs": [
    {
     "name": "stdout",
     "output_type": "stream",
     "text": [
      "hello world\n"
     ]
    }
   ],
   "source": [
    "string : str = \"HELLO WORLD\"\n",
    "print(string.lower())  # Output: \"hello\"\n"
   ]
  },
  {
   "cell_type": "markdown",
   "metadata": {},
   "source": [
    "4. strip()\n",
    "\n",
    "Removes any leading (spaces at the beginning) and trailing (spaces at the end) characters (space is the default)."
   ]
  },
  {
   "cell_type": "code",
   "execution_count": 8,
   "metadata": {},
   "outputs": [
    {
     "name": "stdout",
     "output_type": "stream",
     "text": [
      "  Hello  \n",
      "Hello\n",
      "  Hello  \n"
     ]
    }
   ],
   "source": [
    "string : str = \"  Hello  \"\n",
    "print(string)\n",
    "print(string.strip())  # Output: \"Hello\"\n",
    "print(string)\n"
   ]
  },
  {
   "cell_type": "markdown",
   "metadata": {},
   "source": [
    "4.a lstrip()\n",
    "\n",
    "Returns a left trim version of the string."
   ]
  },
  {
   "cell_type": "code",
   "execution_count": 42,
   "metadata": {},
   "outputs": [
    {
     "name": "stdout",
     "output_type": "stream",
     "text": [
      "hello\n"
     ]
    }
   ],
   "source": [
    "text : str = \"  hello\"\n",
    "print(text.lstrip())  # Output: \"hello\"\n"
   ]
  },
  {
   "cell_type": "markdown",
   "metadata": {},
   "source": [
    "4.b rstrip()\n",
    "\n",
    "Returns a right trim version of the string."
   ]
  },
  {
   "cell_type": "code",
   "execution_count": 44,
   "metadata": {},
   "outputs": [
    {
     "name": "stdout",
     "output_type": "stream",
     "text": [
      "hello\n"
     ]
    }
   ],
   "source": [
    "text : str = \"hello     \"\n",
    "print(text.rstrip())  # Output: \"hello\"\n"
   ]
  },
  {
   "cell_type": "markdown",
   "metadata": {},
   "source": [
    "05. split()\n",
    "\n",
    "Splits the string into a list where each word is a list item. By default, splits by whitespace."
   ]
  },
  {
   "cell_type": "code",
   "execution_count": 9,
   "metadata": {},
   "outputs": [
    {
     "name": "stdout",
     "output_type": "stream",
     "text": [
      "['Hello', 'World']\n"
     ]
    }
   ],
   "source": [
    "string : str = \"Hello World\"\n",
    "print(string.split())  # Output: ['Hello', 'World']\n"
   ]
  },
  {
   "cell_type": "markdown",
   "metadata": {},
   "source": [
    "6. join()\n",
    "\n",
    "Joins the elements of an iterable (e.g., a list) into a single string, with a specified separator."
   ]
  },
  {
   "cell_type": "code",
   "execution_count": 16,
   "metadata": {},
   "outputs": [
    {
     "name": "stdout",
     "output_type": "stream",
     "text": [
      "['Hello', 'World']\n",
      "Hello World\n"
     ]
    }
   ],
   "source": [
    "words : list = [\"Hello\", \"World\"]\n",
    "# string : str = str(words)\n",
    "# print(string)\n",
    "print(\" \".join(words))  # Output: \"Hello World\"\n"
   ]
  },
  {
   "cell_type": "markdown",
   "metadata": {},
   "source": [
    "7. replace()\n",
    "\n",
    "Replaces a specified phrase with another specified phrase."
   ]
  },
  {
   "cell_type": "code",
   "execution_count": 17,
   "metadata": {},
   "outputs": [
    {
     "name": "stdout",
     "output_type": "stream",
     "text": [
      "Hello, Python!\n"
     ]
    }
   ],
   "source": [
    "string : str = \"Hello, World!\"\n",
    "print(string.replace(\"World\", \"Python\"))  # Output: \"Hello, Python!\"\n"
   ]
  },
  {
   "cell_type": "markdown",
   "metadata": {},
   "source": [
    "8. find()\n",
    "\n",
    "Searches the string for a specified value and returns the position of where it was found. Returns -1 if the value is not found."
   ]
  },
  {
   "cell_type": "code",
   "execution_count": 18,
   "metadata": {},
   "outputs": [
    {
     "name": "stdout",
     "output_type": "stream",
     "text": [
      "7\n"
     ]
    }
   ],
   "source": [
    "string : str = \"Hello, World!\"\n",
    "print(string.find(\"World\"))  # Output: 7\n"
   ]
  },
  {
   "cell_type": "markdown",
   "metadata": {},
   "source": [
    "9. startswith()\n",
    "\n",
    "Returns True if the string starts with the specified value."
   ]
  },
  {
   "cell_type": "code",
   "execution_count": 19,
   "metadata": {},
   "outputs": [
    {
     "name": "stdout",
     "output_type": "stream",
     "text": [
      "True\n"
     ]
    }
   ],
   "source": [
    "string : str = \"Hello, World!\"\n",
    "print(string.startswith(\"Hello\"))  # Output: True\n"
   ]
  },
  {
   "cell_type": "markdown",
   "metadata": {},
   "source": [
    "10. endswith()\n",
    "\n",
    "Returns True if the string ends with the specified value."
   ]
  },
  {
   "cell_type": "code",
   "execution_count": 20,
   "metadata": {},
   "outputs": [
    {
     "name": "stdout",
     "output_type": "stream",
     "text": [
      "True\n"
     ]
    }
   ],
   "source": [
    "string : str = \"Hello, World!\"\n",
    "print(string.endswith(\"World!\"))  # Output: True\n"
   ]
  },
  {
   "cell_type": "markdown",
   "metadata": {},
   "source": [
    "11. count()\n",
    "\n",
    "Returns the number of times a specified value appears in the string."
   ]
  },
  {
   "cell_type": "code",
   "execution_count": 21,
   "metadata": {},
   "outputs": [
    {
     "name": "stdout",
     "output_type": "stream",
     "text": [
      "2\n"
     ]
    }
   ],
   "source": [
    "string : str = \"Hello, World!\"\n",
    "print(string.count(\"o\"))  # Output: 2\n"
   ]
  },
  {
   "cell_type": "markdown",
   "metadata": {},
   "source": [
    "12. capitalize()\n",
    "\n",
    "Capitalizes the first character of the string."
   ]
  },
  {
   "cell_type": "code",
   "execution_count": 22,
   "metadata": {},
   "outputs": [
    {
     "name": "stdout",
     "output_type": "stream",
     "text": [
      "Hello world\n"
     ]
    }
   ],
   "source": [
    "string : str = \"hello world\"\n",
    "print(string.capitalize())  # Output: \"Hello\"\n"
   ]
  },
  {
   "cell_type": "markdown",
   "metadata": {},
   "source": [
    "13. title()\n",
    "\n",
    "Converts the first character of each word to uppercase."
   ]
  },
  {
   "cell_type": "code",
   "execution_count": 23,
   "metadata": {},
   "outputs": [
    {
     "name": "stdout",
     "output_type": "stream",
     "text": [
      "Hello World\n"
     ]
    }
   ],
   "source": [
    "string : str = \"hello world\"\n",
    "print(string.title())  # Output: \"Hello World\"\n"
   ]
  },
  {
   "cell_type": "markdown",
   "metadata": {},
   "source": [
    "14. isalpha()\n",
    "\n",
    "Returns True if all characters in the string are alphabetic."
   ]
  },
  {
   "cell_type": "code",
   "execution_count": 24,
   "metadata": {},
   "outputs": [
    {
     "name": "stdout",
     "output_type": "stream",
     "text": [
      "True\n",
      "False\n"
     ]
    }
   ],
   "source": [
    "string : str = \"Hello\"\n",
    "print(string.isalpha())  # Output: True\n",
    "\n",
    "string : str = \"Hello123\"\n",
    "print(string.isalpha())  # Output: False\n"
   ]
  },
  {
   "cell_type": "markdown",
   "metadata": {},
   "source": [
    "15. isdigit()\n",
    "\n",
    "Returns True if all characters in the string are digits."
   ]
  },
  {
   "cell_type": "code",
   "execution_count": 25,
   "metadata": {},
   "outputs": [
    {
     "name": "stdout",
     "output_type": "stream",
     "text": [
      "True\n",
      "False\n"
     ]
    }
   ],
   "source": [
    "string : str = \"12345\"\n",
    "print(string.isdigit())  # Output: True\n",
    "\n",
    "string : str = \"123abc\"\n",
    "print(string.isdigit())  # Output: False\n"
   ]
  },
  {
   "cell_type": "markdown",
   "metadata": {},
   "source": [
    "16. casefold()\n",
    "\n",
    "Converts string into lower case, more aggressively than lower()."
   ]
  },
  {
   "cell_type": "code",
   "execution_count": 28,
   "metadata": {},
   "outputs": [
    {
     "name": "stdout",
     "output_type": "stream",
     "text": [
      "hello world\n"
     ]
    }
   ],
   "source": [
    "text : str = \"HELLO WORLD\"\n",
    "\n",
    "print(text.casefold())  # Output: \"hello world\"\n"
   ]
  },
  {
   "cell_type": "markdown",
   "metadata": {},
   "source": [
    "17. center()\n",
    "\n",
    "Returns a centered string, padding it with spaces or a specified character."
   ]
  },
  {
   "cell_type": "code",
   "execution_count": 30,
   "metadata": {},
   "outputs": [
    {
     "name": "stdout",
     "output_type": "stream",
     "text": [
      "       hello        \n",
      "-------hello--------\n"
     ]
    }
   ],
   "source": [
    "text : str= \"hello\"\n",
    "print(text.center(20))  # Output: \"  hello   \"\n",
    "print(text.center(20, '-'))  # Output: \"--hello---\"\n"
   ]
  },
  {
   "cell_type": "markdown",
   "metadata": {},
   "source": [
    "18. encode()\n",
    "\n",
    "Returns an encoded version of the string."
   ]
  },
  {
   "cell_type": "code",
   "execution_count": 31,
   "metadata": {},
   "outputs": [
    {
     "name": "stdout",
     "output_type": "stream",
     "text": [
      "b'hello'\n"
     ]
    }
   ],
   "source": [
    "text : str = \"hello\"\n",
    "print(text.encode())  # Output: b'hello'\n"
   ]
  },
  {
   "cell_type": "markdown",
   "metadata": {},
   "source": [
    "19. expandtabs()\n",
    "\n",
    "Sets the tab size of the string."
   ]
  },
  {
   "cell_type": "code",
   "execution_count": 35,
   "metadata": {},
   "outputs": [
    {
     "name": "stdout",
     "output_type": "stream",
     "text": [
      "hello\tworld\n",
      "hello               world\n"
     ]
    }
   ],
   "source": [
    "text : str = \"hello\\tworld\"\n",
    "print(text)\n",
    "print(text.expandtabs(20))  # Output: \"hello   world\"\n"
   ]
  },
  {
   "cell_type": "markdown",
   "metadata": {},
   "source": [
    "20. format()\n",
    "\n",
    "Formats specified values in a string."
   ]
  },
  {
   "cell_type": "code",
   "execution_count": 39,
   "metadata": {},
   "outputs": [
    {
     "name": "stdout",
     "output_type": "stream",
     "text": [
      "Hello, world Wellcome to our community PIAIC.\n",
      "Hello, Python Wellcome to our community PIAIC.\n"
     ]
    }
   ],
   "source": [
    "text : str = \"Hello, {} Wellcome to our community PIAIC.\"\n",
    "print(text.format(\"world\"))  # Hello, world Wellcome to our community PIAIC.\n",
    "print(text.format(\"Python\")) # Hello, Python Wellcome to our community PIAIC.\n",
    "\n"
   ]
  },
  {
   "cell_type": "markdown",
   "metadata": {},
   "source": [
    "21. format_map()\n",
    "\n",
    "Formats specified values in a string using a mapping."
   ]
  },
  {
   "cell_type": "code",
   "execution_count": 40,
   "metadata": {},
   "outputs": [
    {
     "name": "stdout",
     "output_type": "stream",
     "text": [
      "Hello, world\n"
     ]
    }
   ],
   "source": [
    "text : str = \"Hello, {name}\"\n",
    "print(text.format_map({'name': 'world'}))  # Output: \"Hello, world\"\n"
   ]
  },
  {
   "cell_type": "markdown",
   "metadata": {},
   "source": [
    "22. index()\n",
    "\n",
    "Searches the string for a specified value and returns the position of where it was found."
   ]
  },
  {
   "cell_type": "code",
   "execution_count": 41,
   "metadata": {},
   "outputs": [
    {
     "name": "stdout",
     "output_type": "stream",
     "text": [
      "6\n"
     ]
    }
   ],
   "source": [
    "text : str = \"hello world\"\n",
    "print(text.index(\"world\"))  # Output: 6\n"
   ]
  },
  {
   "cell_type": "code",
   "execution_count": 45,
   "metadata": {},
   "outputs": [
    {
     "name": "stdout",
     "output_type": "stream",
     "text": [
      "00042\n"
     ]
    }
   ],
   "source": [
    "text : str = \"42\"\n",
    "print(text.zfill(5))  # Output: \"00042\"\n"
   ]
  },
  {
   "cell_type": "markdown",
   "metadata": {},
   "source": [
    "23. zfill()\n",
    "\n",
    "Fills the string with a specified number of 0 values at the beginning."
   ]
  },
  {
   "cell_type": "markdown",
   "metadata": {},
   "source": [
    "## String Indexing and Slicing\n",
    "\n",
    "Strings can be indexed and sliced to access individual characters or substrings."
   ]
  },
  {
   "cell_type": "markdown",
   "metadata": {},
   "source": [
    "Indexing"
   ]
  },
  {
   "cell_type": "code",
   "execution_count": 46,
   "metadata": {},
   "outputs": [
    {
     "name": "stdout",
     "output_type": "stream",
     "text": [
      "H\n",
      "d\n"
     ]
    }
   ],
   "source": [
    "string : str = \"Hello world\"\n",
    "print(string[0])  # Output: \"H\" postive indexing \n",
    "print(string[-1]) # Output: \"d\" negative indexing\n"
   ]
  },
  {
   "cell_type": "markdown",
   "metadata": {},
   "source": [
    "Slicing"
   ]
  },
  {
   "cell_type": "code",
   "execution_count": 47,
   "metadata": {},
   "outputs": [
    {
     "name": "stdout",
     "output_type": "stream",
     "text": [
      "Hello\n",
      "World!\n",
      "Hello\n",
      "Hlo ol!\n"
     ]
    }
   ],
   "source": [
    "string : str = \"Hello, World!\"\n",
    "print(string[0:5])  # Output: \"Hello\"\n",
    "print(string[7:])  # Output: \"World!\"\n",
    "print(string[:5])  # Output: \"Hello\"\n",
    "print(string[::2])  # Output: \"Hlo ol!\"\n"
   ]
  },
  {
   "cell_type": "markdown",
   "metadata": {},
   "source": [
    "## f-strings (formatted string literals) in python "
   ]
  },
  {
   "cell_type": "markdown",
   "metadata": {},
   "source": [
    "In Python, f-strings (formatted string literals) provide a way to embed expressions inside string literals, using curly braces {}. Introduced in Python 3.6, f-strings are a concise and readable way to include variables and expressions within strings."
   ]
  },
  {
   "cell_type": "markdown",
   "metadata": {},
   "source": [
    "### Syntax of f-strings\n",
    "To create an f-string, prefix the string with the letter f or F. Inside the string, use curly braces {} to enclose the expressions or variables you want to include.\n",
    "\n",
    "Example of f-strings\n",
    "Here’s a basic example:"
   ]
  },
  {
   "cell_type": "code",
   "execution_count": null,
   "metadata": {},
   "outputs": [],
   "source": [
    "name : str = \"Ali\"\n",
    "age : int = 30\n",
    "message = f\"Hello, my name is {name} and I am {age} years old.\"\n",
    "print(message)  # Output: Hello, my name is Alice and I am 30 years old.\n",
    "\n"
   ]
  },
  {
   "cell_type": "code",
   "execution_count": null,
   "metadata": {},
   "outputs": [],
   "source": [
    "a : int = 5\n",
    "b : int = 10\n",
    "print(f\"The sum of {a} and {b} is {a + b}.\")  # Output: The sum of 5 and 10 is 15.\n"
   ]
  },
  {
   "cell_type": "code",
   "execution_count": 48,
   "metadata": {},
   "outputs": [
    {
     "name": "stdout",
     "output_type": "stream",
     "text": [
      "Formatted number: 123.46\n"
     ]
    }
   ],
   "source": [
    "# f-strings can be used to format numbers as well:\n",
    "value : float= 123.456789\n",
    "print(f\"Formatted number: {value:.2f}\")  # Output: Formatted number: 123.46\n",
    "# Here, .2f formats the number to two decimal places."
   ]
  },
  {
   "cell_type": "markdown",
   "metadata": {},
   "source": [
    "Multiline f-strings:\n",
    "\n",
    "f-strings can span multiple lines using triple quotes:"
   ]
  },
  {
   "cell_type": "code",
   "execution_count": 50,
   "metadata": {},
   "outputs": [
    {
     "name": "stdout",
     "output_type": "stream",
     "text": [
      "\n",
      "Hello,\n",
      "My name is Ali,\n",
      "and I am 30 years old.\n",
      "\n"
     ]
    }
   ],
   "source": [
    "name : str = \"Ali\"\n",
    "age :int = 30\n",
    "message = f\"\"\"\n",
    "Hello,\n",
    "My name is {name},\n",
    "and I am {age} years old.\n",
    "\"\"\"\n",
    "print(message)\n",
    "# Output:\n",
    "# Hello,\n",
    "# My name is Alice,\n",
    "# and I am 30 years old.\n"
   ]
  },
  {
   "cell_type": "markdown",
   "metadata": {},
   "source": [
    "## Using in Operator in string \n",
    "The in operator checks if a substring exists within a string. If the substring is found, it returns True; otherwise, it returns False.\n",
    "\n",
    "Example#"
   ]
  },
  {
   "cell_type": "code",
   "execution_count": 51,
   "metadata": {},
   "outputs": [
    {
     "name": "stdout",
     "output_type": "stream",
     "text": [
      "True\n"
     ]
    }
   ],
   "source": [
    "text : str = \"Hello, world!\"\n",
    "substring : str = \"world\"\n",
    "\n",
    "# Check if 'world' is in 'Hello, world!'\n",
    "result = substring in text\n",
    "print(result)  # Output: True\n"
   ]
  },
  {
   "cell_type": "markdown",
   "metadata": {},
   "source": [
    "## Using not in Operator\n",
    "The not in operator checks if a substring does not exist within a string. If the substring is not found, it returns True; otherwise, it returns False.\n",
    "\n",
    "Example"
   ]
  },
  {
   "cell_type": "code",
   "execution_count": 52,
   "metadata": {},
   "outputs": [
    {
     "name": "stdout",
     "output_type": "stream",
     "text": [
      "True\n"
     ]
    }
   ],
   "source": [
    "text = \"Hello, world!\"\n",
    "substring = \"Python\"\n",
    "\n",
    "# Check if 'Python' is not in 'Hello, world!'\n",
    "result = substring not in text\n",
    "print(result)  # Output: True\n"
   ]
  },
  {
   "cell_type": "markdown",
   "metadata": {},
   "source": [
    "## String concatenation in Python\n",
    "String concatenation in Python is the process of joining two or more strings together to form a new string. Python provides several ways to concatenate strings, each with its own use case and advantages.\n",
    "\n",
    "### Methods of String Concatenation\n",
    "\n",
    "1. Using the + Operator\n",
    "\n",
    "The simplest way to concatenate strings is by using the + operator."
   ]
  },
  {
   "cell_type": "code",
   "execution_count": 53,
   "metadata": {},
   "outputs": [
    {
     "name": "stdout",
     "output_type": "stream",
     "text": [
      "Hello World\n"
     ]
    }
   ],
   "source": [
    "str1 : str = \"Hello\"\n",
    "str2 : str = \"World\"\n",
    "result : str = str1 + \" \" + str2\n",
    "print(result)  # Output: Hello World\n"
   ]
  },
  {
   "cell_type": "markdown",
   "metadata": {},
   "source": [
    "2. Using the += Operator\n",
    "\n",
    "You can also use the += operator to add a string to the end of another string."
   ]
  },
  {
   "cell_type": "code",
   "execution_count": 56,
   "metadata": {},
   "outputs": [
    {
     "name": "stdout",
     "output_type": "stream",
     "text": [
      "Hello World\n"
     ]
    }
   ],
   "source": [
    "str1 : str = \"Hello\"\n",
    "str1  += \" World\"\n",
    "print(str1)  # Output: Hello World\n"
   ]
  },
  {
   "cell_type": "markdown",
   "metadata": {},
   "source": [
    "3. Using join()\n",
    "\n",
    "The join() method is useful when you need to concatenate a list of strings. It is more efficient than using the + operator in a loop."
   ]
  },
  {
   "cell_type": "code",
   "execution_count": 57,
   "metadata": {},
   "outputs": [
    {
     "name": "stdout",
     "output_type": "stream",
     "text": [
      "Hello World\n"
     ]
    }
   ],
   "source": [
    "words : str = [\"Hello\", \"World\"]\n",
    "result : str = \" \".join(words)\n",
    "print(result)  # Output: Hello World\n"
   ]
  },
  {
   "cell_type": "markdown",
   "metadata": {},
   "source": [
    "4. Using f-strings (Formatted String Literals)\n",
    "\n",
    "f-strings allow you to embed expressions inside string literals, prefixed with an f."
   ]
  },
  {
   "cell_type": "code",
   "execution_count": 61,
   "metadata": {},
   "outputs": [
    {
     "name": "stdout",
     "output_type": "stream",
     "text": [
      "Hello, Ali!\n"
     ]
    }
   ],
   "source": [
    "name : str = \"Ali\"\n",
    "greeting : str = f\"Hello, {name}!\"\n",
    "print(greeting)  # Output: Hello, Alice!\n"
   ]
  },
  {
   "cell_type": "markdown",
   "metadata": {},
   "source": [
    "5. Using format()\n",
    "\n",
    "The format() method allows you to concatenate strings with placeholders.\n"
   ]
  },
  {
   "cell_type": "code",
   "execution_count": 60,
   "metadata": {},
   "outputs": [
    {
     "name": "stdout",
     "output_type": "stream",
     "text": [
      "Hello, Ali!\n"
     ]
    }
   ],
   "source": [
    "name : str = \"Ali\"\n",
    "greeting : str = \"Hello, {}!\".format(name)\n",
    "print(greeting)  # Output: Hello, Alice!\n"
   ]
  },
  {
   "cell_type": "markdown",
   "metadata": {},
   "source": [
    "## Escape Character in string"
   ]
  },
  {
   "cell_type": "markdown",
   "metadata": {},
   "source": [
    "In Python, escape characters are special characters preceded by a backslash (\\) within string literals. They are used to represent characters that cannot be easily typed or are invisible in the string, such as newline characters, tabs, and quotes.\n",
    "\n",
    "Here are some commonly used escape characters in Python:\n",
    "\n",
    "1. \\n: Newline\n",
    "2. \\t: Tab\n",
    "3. \\\\: Backslash\n",
    "4. \\': Single Quote\n",
    "5. \\\": Double Quote\n",
    "\n",
    "Examples:\n",
    "1. Newline (\\n):"
   ]
  },
  {
   "cell_type": "code",
   "execution_count": 68,
   "metadata": {},
   "outputs": [
    {
     "name": "stdout",
     "output_type": "stream",
     "text": [
      "Line01 line02\n",
      "Line01\n",
      "line02\n"
     ]
    }
   ],
   "source": [
    "newline : str = \"Line01 line02\"\n",
    "print(newline)\n",
    "newline : str = \"Line01\\nline02\"\n",
    "print(newline)\n",
    "\n"
   ]
  },
  {
   "cell_type": "markdown",
   "metadata": {},
   "source": [
    "2. Tab (\\t):"
   ]
  },
  {
   "cell_type": "code",
   "execution_count": 69,
   "metadata": {},
   "outputs": [
    {
     "name": "stdout",
     "output_type": "stream",
     "text": [
      "add one tab here and move\n",
      "add one tab here\tand move\n"
     ]
    }
   ],
   "source": [
    "tab : str = \"add one tab here and move\"\n",
    "print(tab)\n",
    "tab : str = \"add one tab here\\tand move\"\n",
    "print(tab)\n",
    "\n"
   ]
  },
  {
   "cell_type": "markdown",
   "metadata": {},
   "source": [
    "3. Backslash ( \\\\\\ ):"
   ]
  },
  {
   "cell_type": "code",
   "execution_count": 73,
   "metadata": {},
   "outputs": [
    {
     "name": "stdout",
     "output_type": "stream",
     "text": [
      "this is abackslash \\ work now\n"
     ]
    }
   ],
   "source": [
    "backslash : str = \"this is abackslash \\\\ work now\"\n",
    "print(backslash)\n"
   ]
  },
  {
   "cell_type": "markdown",
   "metadata": {},
   "source": [
    "4. Single Quote (\\\\'):"
   ]
  },
  {
   "cell_type": "code",
   "execution_count": 74,
   "metadata": {},
   "outputs": [
    {
     "name": "stdout",
     "output_type": "stream",
     "text": [
      "My name is khalid and my father's name is shah nawaz\n"
     ]
    }
   ],
   "source": [
    "# single_quote_string : str = 'My name is khalid and my father's name is shah nawaz'  #error \n",
    "single_quote_string : str = 'My name is khalid and my father\\'s name is shah nawaz'\n",
    "print(single_quote_string)\n",
    "\n",
    "\n"
   ]
  },
  {
   "cell_type": "markdown",
   "metadata": {},
   "source": [
    "5. Double Quote (\\\\\"):"
   ]
  },
  {
   "cell_type": "code",
   "execution_count": 76,
   "metadata": {},
   "outputs": [
    {
     "name": "stdout",
     "output_type": "stream",
     "text": [
      "My name is \"khalid\" and my father's name is \"shah nawaz\" and i'am \"28\" years old.\n"
     ]
    }
   ],
   "source": [
    "# double_quote_string : str = \"My name is khalid and my father\\'s name is shah nawaz my age is \"28\" years old\"\n",
    "double_quote_string : str = \"My name is \\\"khalid\\\" and my father\\'s name is \\\"shah nawaz\\\" and i'am \\\"28\\\" years old.\"\n",
    "print(double_quote_string)\n",
    "\n"
   ]
  },
  {
   "cell_type": "markdown",
   "metadata": {},
   "source": [
    "## Conclusion\n",
    "\n",
    "Strings in Python are versatile and come with a variety of methods for manipulation and analysis. Understanding these methods and how to use them will help you handle text data more effectively. Whether you are cleaning up user input, formatting output, or analyzing textual data, Python's string capabilities are powerful tools at your disposal."
   ]
  }
 ],
 "metadata": {
  "kernelspec": {
   "display_name": "virtualenv",
   "language": "python",
   "name": "python3"
  },
  "language_info": {
   "codemirror_mode": {
    "name": "ipython",
    "version": 3
   },
   "file_extension": ".py",
   "mimetype": "text/x-python",
   "name": "python",
   "nbconvert_exporter": "python",
   "pygments_lexer": "ipython3",
   "version": "3.12.0"
  }
 },
 "nbformat": 4,
 "nbformat_minor": 2
}
