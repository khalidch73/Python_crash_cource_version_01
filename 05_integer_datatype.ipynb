{
 "cells": [
  {
   "cell_type": "markdown",
   "metadata": {},
   "source": [
    "# Integer data type (int) with function in Python\n",
    "In Python, the integer data type (int) represents whole numbers. Integers can be positive, negative, or zero. Unlike some other programming languages, Python's int type has no fixed limits, meaning it can handle very large numbers."
   ]
  },
  {
   "cell_type": "code",
   "execution_count": null,
   "metadata": {},
   "outputs": [],
   "source": [
    "# Assigning integer values to variables\n",
    "a : int = 10\n",
    "b : int = -5\n",
    "c : int = 0\n",
    "\n",
    "# Printing integer values\n",
    "print(a)  # Output: 10\n",
    "print(b)  # Output: -5\n",
    "print(c)  # Output: 0\n"
   ]
  },
  {
   "cell_type": "markdown",
   "metadata": {},
   "source": [
    "## Integer Methods and Functions\n",
    "While integers themselves do not have methods (like lists or strings), Python provides several built-in functions that can be used with integers.\n",
    "\n",
    "## Common Functions for Integers"
   ]
  },
  {
   "cell_type": "markdown",
   "metadata": {},
   "source": [
    "1. abs()\n",
    "\n",
    "Returns the absolute value of an integer."
   ]
  },
  {
   "cell_type": "code",
   "execution_count": 2,
   "metadata": {},
   "outputs": [
    {
     "name": "stdout",
     "output_type": "stream",
     "text": [
      "10\n",
      "20.0\n"
     ]
    }
   ],
   "source": [
    "num = -10\n",
    "print(abs(num))  # Output: 10\n",
    "num01 = -20.0\n",
    "print(abs(num01))"
   ]
  },
  {
   "cell_type": "markdown",
   "metadata": {},
   "source": [
    "2. divmod()\n",
    "\n",
    "Returns a tuple containing the quotient and the remainder when dividing two integers."
   ]
  },
  {
   "cell_type": "code",
   "execution_count": 5,
   "metadata": {},
   "outputs": [
    {
     "name": "stdout",
     "output_type": "stream",
     "text": [
      "3\n",
      "2\n"
     ]
    }
   ],
   "source": [
    "quotient,  remainder = divmod(17, 5)\n",
    "print(quotient)  # Output: 3\n",
    "print(remainder)  # Output: 2"
   ]
  },
  {
   "cell_type": "markdown",
   "metadata": {},
   "source": [
    "3. pow()\n",
    "\n",
    "Returns the value of the first argument raised to the power of the second argument. It also has a three-argument form: pow(x, y, z) which returns (x**y) % z."
   ]
  },
  {
   "cell_type": "code",
   "execution_count": null,
   "metadata": {},
   "outputs": [],
   "source": [
    "result = pow(2, 3)\n",
    "print(result)  # Output: 8\n",
    "\n",
    "result_mod = pow(2, 3, 3)\n",
    "print(result_mod)  # Output: 2 (because 2**3 % 3 = 8 % 3 = 2)\n"
   ]
  },
  {
   "cell_type": "markdown",
   "metadata": {},
   "source": [
    "4. round()\n",
    "\n",
    "Rounds a floating-point number to the nearest integer. Although more commonly used with floats, it can be used with integers for completeness."
   ]
  },
  {
   "cell_type": "code",
   "execution_count": 6,
   "metadata": {},
   "outputs": [
    {
     "name": "stdout",
     "output_type": "stream",
     "text": [
      "6\n",
      "5\n"
     ]
    }
   ],
   "source": [
    "num : float = 5.7\n",
    "print(round(num))  # Output: 6\n",
    "\n",
    "num : float = 5.3\n",
    "print(round(num))  # Output: 5\n"
   ]
  },
  {
   "cell_type": "markdown",
   "metadata": {},
   "source": [
    "5. int()\n",
    "\n",
    "Converts a value to an integer. If the value is a string, it must represent an integer literal."
   ]
  },
  {
   "cell_type": "code",
   "execution_count": 7,
   "metadata": {},
   "outputs": [
    {
     "name": "stdout",
     "output_type": "stream",
     "text": [
      "10\n",
      "25\n"
     ]
    }
   ],
   "source": [
    "float_num : float = 10.5\n",
    "str_num : str = \"25\"\n",
    "\n",
    "print(int(float_num))  # Output: 10\n",
    "print(int(str_num))    # Output: 25\n"
   ]
  },
  {
   "cell_type": "markdown",
   "metadata": {},
   "source": [
    "## Conclusion\n",
    "The int data type in Python is versatile and supports various operations and functions. Understanding how to work with integers and the methods and functions available to you can help you perform a wide range of numerical tasks efficiently."
   ]
  },
  {
   "cell_type": "markdown",
   "metadata": {},
   "source": []
  }
 ],
 "metadata": {
  "kernelspec": {
   "display_name": "virtualenv",
   "language": "python",
   "name": "python3"
  },
  "language_info": {
   "codemirror_mode": {
    "name": "ipython",
    "version": 3
   },
   "file_extension": ".py",
   "mimetype": "text/x-python",
   "name": "python",
   "nbconvert_exporter": "python",
   "pygments_lexer": "ipython3",
   "version": "3.12.0"
  }
 },
 "nbformat": 4,
 "nbformat_minor": 2
}
